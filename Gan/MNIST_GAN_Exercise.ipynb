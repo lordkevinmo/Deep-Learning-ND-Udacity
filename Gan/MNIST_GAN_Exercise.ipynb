{
 "cells": [
  {
   "cell_type": "markdown",
   "metadata": {},
   "source": [
    "# Generative Adversarial Network\n",
    "\n",
    "In this notebook, we'll be building a generative adversarial network (GAN) trained on the MNIST dataset. From this, we'll be able to generate new handwritten digits!\n",
    "\n",
    "GANs were [first reported on](https://arxiv.org/abs/1406.2661) in 2014 from Ian Goodfellow and others in Yoshua Bengio's lab. Since then, GANs have exploded in popularity. Here are a few examples to check out:\n",
    "\n",
    "* [Pix2Pix](https://affinelayer.com/pixsrv/) \n",
    "* [CycleGAN & Pix2Pix in PyTorch, Jun-Yan Zhu](https://github.com/junyanz/pytorch-CycleGAN-and-pix2pix)\n",
    "* [A list of generative models](https://github.com/wiseodd/generative-models)\n",
    "\n",
    "The idea behind GANs is that you have two networks, a generator $G$ and a discriminator $D$, competing against each other. The generator makes \"fake\" data to pass to the discriminator. The discriminator also sees real training data and predicts if the data it's received is real or fake. \n",
    "> * The generator is trained to fool the discriminator, it wants to output data that looks _as close as possible_ to real, training data. \n",
    "* The discriminator is a classifier that is trained to figure out which data is real and which is fake. \n",
    "\n",
    "What ends up happening is that the generator learns to make data that is indistinguishable from real data to the discriminator.\n",
    "\n",
    "<img src='assets/gan_pipeline.png' width=70% />\n",
    "\n",
    "The general structure of a GAN is shown in the diagram above, using MNIST images as data. The latent sample is a random vector that the generator uses to construct its fake images. This is often called a **latent vector** and that vector space is called **latent space**. As the generator trains, it figures out how to map latent vectors to recognizable images that can fool the discriminator.\n",
    "\n",
    "If you're interested in generating only new images, you can throw out the discriminator after training. In this notebook, I'll show you how to define and train these adversarial networks in PyTorch and generate new images!"
   ]
  },
  {
   "cell_type": "code",
   "execution_count": 1,
   "metadata": {},
   "outputs": [],
   "source": [
    "%matplotlib inline\n",
    "\n",
    "import numpy as np\n",
    "import torch\n",
    "import matplotlib.pyplot as plt"
   ]
  },
  {
   "cell_type": "code",
   "execution_count": 2,
   "metadata": {},
   "outputs": [
    {
     "name": "stdout",
     "output_type": "stream",
     "text": [
      "Downloading http://yann.lecun.com/exdb/mnist/train-images-idx3-ubyte.gz\n",
      "Downloading http://yann.lecun.com/exdb/mnist/train-labels-idx1-ubyte.gz\n",
      "Downloading http://yann.lecun.com/exdb/mnist/t10k-images-idx3-ubyte.gz\n",
      "Downloading http://yann.lecun.com/exdb/mnist/t10k-labels-idx1-ubyte.gz\n",
      "Processing...\n",
      "Done!\n"
     ]
    }
   ],
   "source": [
    "from torchvision import datasets\n",
    "import torchvision.transforms as transforms\n",
    "\n",
    "# number of subprocesses to use for data loading\n",
    "num_workers = 0\n",
    "# how many samples per batch to load\n",
    "batch_size = 64\n",
    "\n",
    "# convert data to torch.FloatTensor\n",
    "transform = transforms.ToTensor()\n",
    "\n",
    "# get the training datasets\n",
    "train_data = datasets.MNIST(root='data', train=True,\n",
    "                                   download=True, transform=transform)\n",
    "\n",
    "# prepare data loader\n",
    "train_loader = torch.utils.data.DataLoader(train_data, batch_size=batch_size,\n",
    "                                           num_workers=num_workers)"
   ]
  },
  {
   "cell_type": "markdown",
   "metadata": {},
   "source": [
    "### Visualize the data"
   ]
  },
  {
   "cell_type": "code",
   "execution_count": 3,
   "metadata": {},
   "outputs": [
    {
     "data": {
      "text/plain": [
       "<matplotlib.image.AxesImage at 0x7f842a87f438>"
      ]
     },
     "execution_count": 3,
     "metadata": {},
     "output_type": "execute_result"
    },
    {
     "data": {
      "image/png": "[encoded data removed]",
      "text/plain": [
       "<matplotlib.figure.Figure at 0x7f847f19a9b0>"
      ]
     },
     "metadata": {
      "needs_background": "light"
     },
     "output_type": "display_data"
    }
   ],
   "source": [
    "# obtain one batch of training images\n",
    "dataiter = iter(train_loader)\n",
    "images, labels = dataiter.next()\n",
    "images = images.numpy()\n",
    "\n",
    "# get one image from the batch\n",
    "img = np.squeeze(images[0])\n",
    "\n",
    "fig = plt.figure(figsize = (3,3)) \n",
    "ax = fig.add_subplot(111)\n",
    "ax.imshow(img, cmap='gray')"
   ]
  },
  {
   "cell_type": "markdown",
   "metadata": {},
   "source": [
    "---\n",
    "# Define the Model\n",
    "\n",
    "A GAN is comprised of two adversarial networks, a discriminator and a generator."
   ]
  },
  {
   "cell_type": "markdown",
   "metadata": {},
   "source": [
    "## Discriminator\n",
    "\n",
    "The discriminator network is going to be a pretty typical linear classifier. To make this network a universal function approximator, we'll need at least one hidden layer, and these hidden layers should have one key attribute:\n",
    "> All hidden layers will have a [Leaky ReLu](https://pytorch.org/docs/stable/nn.html#torch.nn.LeakyReLU) activation function applied to their outputs.\n",
    "\n",
    "<img src='assets/gan_network.png' width=70% />\n",
    "\n",
    "#### Leaky ReLu\n",
    "\n",
    "We should use a leaky ReLU to allow gradients to flow backwards through the layer unimpeded. A leaky ReLU is like a normal ReLU, except that there is a small non-zero output for negative input values.\n",
    "\n",
    "<img src='assets/leaky_relu.png' width=40% />\n",
    "\n",
    "#### Sigmoid Output\n",
    "\n",
    "We'll also take the approach of using a more numerically stable loss function on the outputs. Recall that we want the discriminator to output a value 0-1 indicating whether an image is _real or fake_. \n",
    "> We will ultimately use [BCEWithLogitsLoss](https://pytorch.org/docs/stable/nn.html#bcewithlogitsloss), which combines a `sigmoid` activation function **and** and binary cross entropy loss in one function. \n",
    "\n",
    "So, our final output layer should not have any activation function applied to it."
   ]
  },
  {
   "cell_type": "code",
   "execution_count": 4,
   "metadata": {},
   "outputs": [],
   "source": [
    "import torch.nn as nn\n",
    "import torch.nn.functional as F\n",
    "\n",
    "class Discriminator(nn.Module):\n",
    "\n",
    "    def __init__(self, input_size, hidden_dim, output_size):\n",
    "        super(Discriminator, self).__init__()\n",
    "        \n",
    "       # define hidden linear layers\n",
    "        self.fc1 = nn.Linear(input_size, hidden_dim*4)\n",
    "        self.fc2 = nn.Linear(hidden_dim*4, hidden_dim*2)\n",
    "        self.fc3 = nn.Linear(hidden_dim*2, hidden_dim)\n",
    "        \n",
    "        # final fully-connected layer\n",
    "        self.fc4 = nn.Linear(hidden_dim, output_size)\n",
    "        \n",
    "        # dropout layer \n",
    "        self.dropout = nn.Dropout(0.3)\n",
    "        \n",
    "        \n",
    "    def forward(self, x):\n",
    "        # flatten image\n",
    "        x = x.view(-1, 28*28)\n",
    "        # all hidden layers\n",
    "        x = F.leaky_relu(self.fc1(x), 0.2) # (input, negative_slope=0.2)\n",
    "        x = self.dropout(x)\n",
    "        x = F.leaky_relu(self.fc2(x), 0.2)\n",
    "        x = self.dropout(x)\n",
    "        x = F.leaky_relu(self.fc3(x), 0.2)\n",
    "        x = self.dropout(x)\n",
    "        # final layer\n",
    "        out = self.fc4(x)\n",
    "\n",
    "        return out\n",
    "\n"
   ]
  },
  {
   "cell_type": "markdown",
   "metadata": {},
   "source": [
    "## Generator\n",
    "\n",
    "The generator network will be almost exactly the same as the discriminator network, except that we're applying a [tanh activation function](https://pytorch.org/docs/stable/nn.html#tanh) to our output layer.\n",
    "\n",
    "#### tanh Output\n",
    "The generator has been found to perform the best with $tanh$ for the generator output, which scales the output to be between -1 and 1, instead of 0 and 1. \n",
    "\n",
    "<img src='assets/tanh_fn.png' width=40% />\n",
    "\n",
    "Recall that we also want these outputs to be comparable to the *real* input pixel values, which are read in as normalized values between 0 and 1. \n",
    "> So, we'll also have to **scale our real input images to have pixel values between -1 and 1** when we train the discriminator. \n",
    "\n",
    "I'll do this in the training loop, later on."
   ]
  },
  {
   "cell_type": "code",
   "execution_count": 5,
   "metadata": {},
   "outputs": [],
   "source": [
    "class Generator(nn.Module):\n",
    "\n",
    "    def __init__(self, input_size, hidden_dim, output_size):\n",
    "        super(Generator, self).__init__()\n",
    "        \n",
    "        # define all layers\n",
    "        self.fc1 = nn.Linear(input_size, hidden_dim)\n",
    "        self.fc2 = nn.Linear(hidden_dim, hidden_dim*2)\n",
    "        self.fc3 = nn.Linear(hidden_dim*2, hidden_dim*4)\n",
    "        \n",
    "        # final fully-connected layer\n",
    "        self.fc4 = nn.Linear(hidden_dim*4, output_size)\n",
    "        \n",
    "        # dropout layer \n",
    "        self.dropout = nn.Dropout(0.3)\n",
    "\n",
    "    def forward(self, x):\n",
    "        # all hidden layers\n",
    "        x = F.leaky_relu(self.fc1(x), 0.2) # (input, negative_slope=0.2)\n",
    "        x = self.dropout(x)\n",
    "        x = F.leaky_relu(self.fc2(x), 0.2)\n",
    "        x = self.dropout(x)\n",
    "        x = F.leaky_relu(self.fc3(x), 0.2)\n",
    "        x = self.dropout(x)\n",
    "        # final layer with tanh applied\n",
    "        out = F.tanh(self.fc4(x))\n",
    "\n",
    "        return out"
   ]
  },
  {
   "cell_type": "markdown",
   "metadata": {},
   "source": [
    "## Model hyperparameters"
   ]
  },
  {
   "cell_type": "code",
   "execution_count": 6,
   "metadata": {},
   "outputs": [],
   "source": [
    "# Discriminator hyperparams\n",
    "\n",
    "# Size of input image to discriminator (28*28)\n",
    "input_size = 784\n",
    "# Size of discriminator output (real or fake)\n",
    "d_output_size = 1\n",
    "# Size of last hidden layer in the discriminator\n",
    "d_hidden_size = 32\n",
    "\n",
    "# Generator hyperparams\n",
    "\n",
    "# Size of latent vector to give to generator\n",
    "z_size = 100\n",
    "# Size of discriminator output (generated image)\n",
    "g_output_size = 784\n",
    "# Size of first hidden layer in the generator\n",
    "g_hidden_size = 32"
   ]
  },
  {
   "cell_type": "markdown",
   "metadata": {},
   "source": [
    "## Build complete network\n",
    "\n",
    "Now we're instantiating the discriminator and generator from the classes defined above. Make sure you've passed in the correct input arguments."
   ]
  },
  {
   "cell_type": "code",
   "execution_count": 7,
   "metadata": {},
   "outputs": [
    {
     "name": "stdout",
     "output_type": "stream",
     "text": [
      "Discriminator(\n",
      "  (fc1): Linear(in_features=784, out_features=128, bias=True)\n",
      "  (fc2): Linear(in_features=128, out_features=64, bias=True)\n",
      "  (fc3): Linear(in_features=64, out_features=32, bias=True)\n",
      "  (fc4): Linear(in_features=32, out_features=1, bias=True)\n",
      "  (dropout): Dropout(p=0.3)\n",
      ")\n",
      "\n",
      "Generator(\n",
      "  (fc1): Linear(in_features=100, out_features=32, bias=True)\n",
      "  (fc2): Linear(in_features=32, out_features=64, bias=True)\n",
      "  (fc3): Linear(in_features=64, out_features=128, bias=True)\n",
      "  (fc4): Linear(in_features=128, out_features=784, bias=True)\n",
      "  (dropout): Dropout(p=0.3)\n",
      ")\n"
     ]
    }
   ],
   "source": [
    "# instantiate discriminator and generator\n",
    "D = Discriminator(input_size, d_hidden_size, d_output_size)\n",
    "G = Generator(z_size, g_hidden_size, g_output_size)\n",
    "\n",
    "# check that they are as you expect\n",
    "print(D)\n",
    "print()\n",
    "print(G)"
   ]
  },
  {
   "cell_type": "markdown",
   "metadata": {},
   "source": [
    "---\n",
    "## Discriminator and Generator Losses\n",
    "\n",
    "Now we need to calculate the losses. \n",
    "\n",
    "### Discriminator Losses\n",
    "\n",
    "> * For the discriminator, the total loss is the sum of the losses for real and fake images, `d_loss = d_real_loss + d_fake_loss`. \n",
    "* Remember that we want the discriminator to output 1 for real images and 0 for fake images, so we need to set up the losses to reflect that.\n",
    "\n",
    "<img src='assets/gan_pipeline.png' width=70% />\n",
    "\n",
    "The losses will by binary cross entropy loss with logits, which we can get with [BCEWithLogitsLoss](https://pytorch.org/docs/stable/nn.html#bcewithlogitsloss). This combines a `sigmoid` activation function **and** and binary cross entropy loss in one function.\n",
    "\n",
    "For the real images, we want `D(real_images) = 1`. That is, we want the discriminator to classify the the real images with a label = 1, indicating that these are real. To help the discriminator generalize better, the labels are **reduced a bit from 1.0 to 0.9**. For this, we'll use the parameter `smooth`; if True, then we should smooth our labels. In PyTorch, this looks like `labels = torch.ones(size) * 0.9`\n",
    "\n",
    "The discriminator loss for the fake data is similar. We want `D(fake_images) = 0`, where the fake images are the _generator output_, `fake_images = G(z)`. \n",
    "\n",
    "### Generator Loss\n",
    "\n",
    "The generator loss will look similar only with flipped labels. The generator's goal is to get `D(fake_images) = 1`. In this case, the labels are **flipped** to represent that the generator is trying to fool the discriminator into thinking that the images it generates (fakes) are real!"
   ]
  },
  {
   "cell_type": "code",
   "execution_count": 8,
   "metadata": {},
   "outputs": [],
   "source": [
    "# Calculate losses\n",
    "def real_loss(D_out, smooth=False):\n",
    "    batch_size = D_out.size(0)\n",
    "    # label smoothing\n",
    "    if smooth:\n",
    "        # smooth, real labels = 0.9\n",
    "        labels = torch.ones(batch_size)*0.9\n",
    "    else:\n",
    "        labels = torch.ones(batch_size) # real labels = 1\n",
    "        \n",
    "    # numerically stable loss\n",
    "    criterion = nn.BCEWithLogitsLoss()\n",
    "    # calculate loss\n",
    "    loss = criterion(D_out.squeeze(), labels)\n",
    "    return loss\n",
    "\n",
    "def fake_loss(D_out):\n",
    "    batch_size = D_out.size(0)\n",
    "    labels = torch.zeros(batch_size) # fake labels = 0\n",
    "    criterion = nn.BCEWithLogitsLoss()\n",
    "    # calculate loss\n",
    "    loss = criterion(D_out.squeeze(), labels)\n",
    "    return loss"
   ]
  },
  {
   "cell_type": "markdown",
   "metadata": {},
   "source": [
    "## Optimizers\n",
    "\n",
    "We want to update the generator and discriminator variables separately. So, we'll define two separate Adam optimizers."
   ]
  },
  {
   "cell_type": "code",
   "execution_count": 9,
   "metadata": {
    "scrolled": true
   },
   "outputs": [],
   "source": [
    "import torch.optim as optim\n",
    "\n",
    "# learning rate for optimizers\n",
    "lr = 0.002\n",
    "\n",
    "# Create optimizers for the discriminator and generator\n",
    "d_optimizer = optim.Adam(D.parameters(), lr)\n",
    "g_optimizer = optim.Adam(G.parameters(), lr)"
   ]
  },
  {
   "cell_type": "markdown",
   "metadata": {},
   "source": [
    "---\n",
    "## Training\n",
    "\n",
    "Training will involve alternating between training the discriminator and the generator. We'll use our functions `real_loss` and `fake_loss` to help us calculate the discriminator losses in all of the following cases.\n",
    "\n",
    "### Discriminator training\n",
    "1. Compute the discriminator loss on real, training images        \n",
    "2. Generate fake images\n",
    "3. Compute the discriminator loss on fake, generated images     \n",
    "4. Add up real and fake loss\n",
    "5. Perform backpropagation + an optimization step to update the discriminator's weights\n",
    "\n",
    "### Generator training\n",
    "1. Generate fake images\n",
    "2. Compute the discriminator loss on fake images, using **flipped** labels!\n",
    "3. Perform backpropagation + an optimization step to update the generator's weights\n",
    "\n",
    "#### Saving Samples\n",
    "\n",
    "As we train, we'll also print out some loss statistics and save some generated \"fake\" samples."
   ]
  },
  {
   "cell_type": "code",
   "execution_count": 10,
   "metadata": {
    "scrolled": true
   },
   "outputs": [
    {
     "name": "stdout",
     "output_type": "stream",
     "text": [
      "Epoch [    1/  100] | d_loss: 1.3631 | g_loss: 0.7467\n",
      "Epoch [    1/  100] | d_loss: 0.8378 | g_loss: 2.9407\n",
      "Epoch [    1/  100] | d_loss: 1.2473 | g_loss: 1.2066\n",
      "Epoch [    2/  100] | d_loss: 1.2588 | g_loss: 0.6932\n",
      "Epoch [    2/  100] | d_loss: 1.1085 | g_loss: 1.7977\n",
      "Epoch [    2/  100] | d_loss: 1.5836 | g_loss: 0.4508\n",
      "Epoch [    3/  100] | d_loss: 1.0302 | g_loss: 1.0950\n",
      "Epoch [    3/  100] | d_loss: 1.2466 | g_loss: 0.6610\n",
      "Epoch [    3/  100] | d_loss: 1.2284 | g_loss: 0.9567\n",
      "Epoch [    4/  100] | d_loss: 1.3543 | g_loss: 0.8272\n",
      "Epoch [    4/  100] | d_loss: 1.2802 | g_loss: 0.9301\n",
      "Epoch [    4/  100] | d_loss: 1.4139 | g_loss: 0.8392\n",
      "Epoch [    5/  100] | d_loss: 1.3871 | g_loss: 0.8133\n",
      "Epoch [    5/  100] | d_loss: 1.2301 | g_loss: 1.1995\n",
      "Epoch [    5/  100] | d_loss: 0.9877 | g_loss: 2.2377\n",
      "Epoch [    6/  100] | d_loss: 1.3315 | g_loss: 0.9983\n",
      "Epoch [    6/  100] | d_loss: 1.3141 | g_loss: 1.0147\n",
      "Epoch [    6/  100] | d_loss: 1.3008 | g_loss: 1.1084\n",
      "Epoch [    7/  100] | d_loss: 1.3192 | g_loss: 1.0962\n",
      "Epoch [    7/  100] | d_loss: 1.3122 | g_loss: 0.8695\n",
      "Epoch [    7/  100] | d_loss: 1.0561 | g_loss: 2.5546\n",
      "Epoch [    8/  100] | d_loss: 1.2973 | g_loss: 1.6840\n",
      "Epoch [    8/  100] | d_loss: 0.5989 | g_loss: 15.0984\n",
      "Epoch [    8/  100] | d_loss: 0.3584 | g_loss: 26.8506\n",
      "Epoch [    9/  100] | d_loss: 0.3964 | g_loss: 14.8762\n",
      "Epoch [    9/  100] | d_loss: 0.3388 | g_loss: 29.8578\n",
      "Epoch [    9/  100] | d_loss: 0.3411 | g_loss: 28.8857\n",
      "Epoch [   10/  100] | d_loss: 0.3416 | g_loss: 28.1275\n",
      "Epoch [   10/  100] | d_loss: 0.3350 | g_loss: 28.1634\n",
      "Epoch [   10/  100] | d_loss: 0.3362 | g_loss: 19.8082\n",
      "Epoch [   11/  100] | d_loss: 0.3325 | g_loss: 22.6473\n",
      "Epoch [   11/  100] | d_loss: 0.3356 | g_loss: 25.8247\n",
      "Epoch [   11/  100] | d_loss: 0.3340 | g_loss: 20.3154\n",
      "Epoch [   12/  100] | d_loss: 0.3339 | g_loss: 12.9534\n",
      "Epoch [   12/  100] | d_loss: 0.3289 | g_loss: 27.3658\n",
      "Epoch [   12/  100] | d_loss: 0.3316 | g_loss: 26.3380\n",
      "Epoch [   13/  100] | d_loss: 0.3294 | g_loss: 17.4109\n",
      "Epoch [   13/  100] | d_loss: 0.3295 | g_loss: 35.3607\n",
      "Epoch [   13/  100] | d_loss: 0.3282 | g_loss: 17.8464\n",
      "Epoch [   14/  100] | d_loss: 0.3275 | g_loss: 17.8631\n",
      "Epoch [   14/  100] | d_loss: 0.3269 | g_loss: 17.6361\n",
      "Epoch [   14/  100] | d_loss: 0.3281 | g_loss: 20.7459\n",
      "Epoch [   15/  100] | d_loss: 0.3285 | g_loss: 16.7941\n",
      "Epoch [   15/  100] | d_loss: 0.3291 | g_loss: 15.1241\n",
      "Epoch [   15/  100] | d_loss: 0.3383 | g_loss: 12.9194\n",
      "Epoch [   16/  100] | d_loss: 0.3286 | g_loss: 18.3075\n",
      "Epoch [   16/  100] | d_loss: 0.3927 | g_loss: 10.4572\n",
      "Epoch [   16/  100] | d_loss: 0.3283 | g_loss: 24.2208\n",
      "Epoch [   17/  100] | d_loss: 0.3275 | g_loss: 25.6834\n",
      "Epoch [   17/  100] | d_loss: 0.3373 | g_loss: 21.2837\n",
      "Epoch [   17/  100] | d_loss: 0.3383 | g_loss: 17.2239\n",
      "Epoch [   18/  100] | d_loss: 0.3329 | g_loss: 14.8034\n",
      "Epoch [   18/  100] | d_loss: 0.3362 | g_loss: 17.0574\n",
      "Epoch [   18/  100] | d_loss: 0.3275 | g_loss: 22.4625\n",
      "Epoch [   19/  100] | d_loss: 0.3344 | g_loss: 16.3554\n",
      "Epoch [   19/  100] | d_loss: 0.3275 | g_loss: 15.4979\n",
      "Epoch [   19/  100] | d_loss: 0.3342 | g_loss: 16.8773\n",
      "Epoch [   20/  100] | d_loss: 0.3545 | g_loss: 13.2415\n",
      "Epoch [   20/  100] | d_loss: 0.3315 | g_loss: 22.5539\n",
      "Epoch [   20/  100] | d_loss: 0.3372 | g_loss: 20.3075\n",
      "Epoch [   21/  100] | d_loss: 0.4046 | g_loss: 21.4025\n",
      "Epoch [   21/  100] | d_loss: 0.3425 | g_loss: 12.4010\n",
      "Epoch [   21/  100] | d_loss: 0.3579 | g_loss: 22.8843\n",
      "Epoch [   22/  100] | d_loss: 0.3513 | g_loss: 14.3741\n",
      "Epoch [   22/  100] | d_loss: 0.3405 | g_loss: 12.1683\n",
      "Epoch [   22/  100] | d_loss: 0.3406 | g_loss: 14.8988\n",
      "Epoch [   23/  100] | d_loss: 0.3395 | g_loss: 14.9289\n",
      "Epoch [   23/  100] | d_loss: 0.3338 | g_loss: 10.6544\n",
      "Epoch [   23/  100] | d_loss: 0.3512 | g_loss: 14.1123\n",
      "Epoch [   24/  100] | d_loss: 0.3320 | g_loss: 15.0266\n",
      "Epoch [   24/  100] | d_loss: 0.3412 | g_loss: 20.5471\n",
      "Epoch [   24/  100] | d_loss: 0.3668 | g_loss: 16.9174\n",
      "Epoch [   25/  100] | d_loss: 0.3367 | g_loss: 14.4879\n",
      "Epoch [   25/  100] | d_loss: 0.3412 | g_loss: 17.8767\n",
      "Epoch [   25/  100] | d_loss: 0.3378 | g_loss: 19.3133\n",
      "Epoch [   26/  100] | d_loss: 0.3572 | g_loss: 11.6294\n",
      "Epoch [   26/  100] | d_loss: 0.3620 | g_loss: 12.7315\n",
      "Epoch [   26/  100] | d_loss: 0.3445 | g_loss: 13.4372\n",
      "Epoch [   27/  100] | d_loss: 0.3408 | g_loss: 12.7408\n",
      "Epoch [   27/  100] | d_loss: 0.3310 | g_loss: 21.2910\n",
      "Epoch [   27/  100] | d_loss: 0.3633 | g_loss: 15.4715\n",
      "Epoch [   28/  100] | d_loss: 0.3568 | g_loss: 13.0319\n",
      "Epoch [   28/  100] | d_loss: 0.3403 | g_loss: 16.6491\n",
      "Epoch [   28/  100] | d_loss: 0.3711 | g_loss: 12.5872\n",
      "Epoch [   29/  100] | d_loss: 0.3521 | g_loss: 14.0249\n",
      "Epoch [   29/  100] | d_loss: 0.3344 | g_loss: 13.6979\n",
      "Epoch [   29/  100] | d_loss: 0.3423 | g_loss: 14.1810\n",
      "Epoch [   30/  100] | d_loss: 0.3693 | g_loss: 15.7996\n",
      "Epoch [   30/  100] | d_loss: 0.3945 | g_loss: 6.9423\n",
      "Epoch [   30/  100] | d_loss: 0.3551 | g_loss: 13.4909\n",
      "Epoch [   31/  100] | d_loss: 0.3473 | g_loss: 14.5127\n",
      "Epoch [   31/  100] | d_loss: 0.3382 | g_loss: 14.9070\n",
      "Epoch [   31/  100] | d_loss: 0.3939 | g_loss: 17.0554\n",
      "Epoch [   32/  100] | d_loss: 0.3695 | g_loss: 15.7689\n",
      "Epoch [   32/  100] | d_loss: 0.3390 | g_loss: 20.3423\n",
      "Epoch [   32/  100] | d_loss: 0.4226 | g_loss: 12.6739\n",
      "Epoch [   33/  100] | d_loss: 0.3577 | g_loss: 13.7368\n",
      "Epoch [   33/  100] | d_loss: 0.3601 | g_loss: 11.1404\n",
      "Epoch [   33/  100] | d_loss: 0.4340 | g_loss: 13.2802\n",
      "Epoch [   34/  100] | d_loss: 0.3467 | g_loss: 13.7265\n",
      "Epoch [   34/  100] | d_loss: 0.3434 | g_loss: 12.3903\n",
      "Epoch [   34/  100] | d_loss: 0.3537 | g_loss: 12.2914\n",
      "Epoch [   35/  100] | d_loss: 0.3461 | g_loss: 14.9483\n",
      "Epoch [   35/  100] | d_loss: 0.3329 | g_loss: 18.3443\n",
      "Epoch [   35/  100] | d_loss: 0.3594 | g_loss: 17.6004\n",
      "Epoch [   36/  100] | d_loss: 0.3510 | g_loss: 15.8692\n",
      "Epoch [   36/  100] | d_loss: 0.3453 | g_loss: 15.1161\n",
      "Epoch [   36/  100] | d_loss: 0.4447 | g_loss: 11.9449\n",
      "Epoch [   37/  100] | d_loss: 0.3323 | g_loss: 16.6438\n",
      "Epoch [   37/  100] | d_loss: 0.3757 | g_loss: 11.5182\n",
      "Epoch [   37/  100] | d_loss: 0.3447 | g_loss: 17.4408\n",
      "Epoch [   38/  100] | d_loss: 0.3444 | g_loss: 13.8394\n",
      "Epoch [   38/  100] | d_loss: 0.3415 | g_loss: 10.9042\n",
      "Epoch [   38/  100] | d_loss: 0.3352 | g_loss: 18.1049\n",
      "Epoch [   39/  100] | d_loss: 0.3768 | g_loss: 18.2861\n",
      "Epoch [   39/  100] | d_loss: 0.3373 | g_loss: 18.4615\n",
      "Epoch [   39/  100] | d_loss: 0.3576 | g_loss: 15.2461\n",
      "Epoch [   40/  100] | d_loss: 0.3830 | g_loss: 11.0473\n",
      "Epoch [   40/  100] | d_loss: 0.3326 | g_loss: 14.3660\n",
      "Epoch [   40/  100] | d_loss: 0.3872 | g_loss: 10.3987\n",
      "Epoch [   41/  100] | d_loss: 0.3634 | g_loss: 10.1496\n",
      "Epoch [   41/  100] | d_loss: 0.3648 | g_loss: 12.5958\n",
      "Epoch [   41/  100] | d_loss: 0.3816 | g_loss: 15.2756\n",
      "Epoch [   42/  100] | d_loss: 0.3980 | g_loss: 14.2926\n",
      "Epoch [   42/  100] | d_loss: 0.3932 | g_loss: 10.8707\n",
      "Epoch [   42/  100] | d_loss: 0.3850 | g_loss: 13.3656\n",
      "Epoch [   43/  100] | d_loss: 0.4112 | g_loss: 12.9886\n",
      "Epoch [   43/  100] | d_loss: 0.3765 | g_loss: 12.5085\n",
      "Epoch [   43/  100] | d_loss: 0.3561 | g_loss: 13.8011\n",
      "Epoch [   44/  100] | d_loss: 0.3460 | g_loss: 12.8263\n",
      "Epoch [   44/  100] | d_loss: 0.3540 | g_loss: 14.0492\n",
      "Epoch [   44/  100] | d_loss: 0.3600 | g_loss: 14.2630\n",
      "Epoch [   45/  100] | d_loss: 0.3386 | g_loss: 15.5988\n",
      "Epoch [   45/  100] | d_loss: 0.3476 | g_loss: 13.3727\n",
      "Epoch [   45/  100] | d_loss: 0.3506 | g_loss: 13.0955\n",
      "Epoch [   46/  100] | d_loss: 0.3578 | g_loss: 13.9736\n",
      "Epoch [   46/  100] | d_loss: 0.3581 | g_loss: 12.8449\n",
      "Epoch [   46/  100] | d_loss: 0.4182 | g_loss: 8.7099\n",
      "Epoch [   47/  100] | d_loss: 0.3939 | g_loss: 11.2492\n",
      "Epoch [   47/  100] | d_loss: 0.3408 | g_loss: 11.4014\n",
      "Epoch [   47/  100] | d_loss: 0.3732 | g_loss: 10.2570\n",
      "Epoch [   48/  100] | d_loss: 0.3446 | g_loss: 11.0486\n",
      "Epoch [   48/  100] | d_loss: 0.3523 | g_loss: 11.6817\n",
      "Epoch [   48/  100] | d_loss: 0.3560 | g_loss: 14.9488\n",
      "Epoch [   49/  100] | d_loss: 0.3328 | g_loss: 12.7310\n",
      "Epoch [   49/  100] | d_loss: 0.3331 | g_loss: 14.4185\n",
      "Epoch [   49/  100] | d_loss: 0.3564 | g_loss: 11.2863\n",
      "Epoch [   50/  100] | d_loss: 0.3690 | g_loss: 13.3609\n",
      "Epoch [   50/  100] | d_loss: 0.3877 | g_loss: 9.8180\n",
      "Epoch [   50/  100] | d_loss: 0.3566 | g_loss: 10.3007\n",
      "Epoch [   51/  100] | d_loss: 0.3438 | g_loss: 14.9507\n",
      "Epoch [   51/  100] | d_loss: 0.3480 | g_loss: 15.0703\n",
      "Epoch [   51/  100] | d_loss: 0.3947 | g_loss: 11.4748\n",
      "Epoch [   52/  100] | d_loss: 0.3809 | g_loss: 13.0647\n",
      "Epoch [   52/  100] | d_loss: 0.3419 | g_loss: 14.7733\n",
      "Epoch [   52/  100] | d_loss: 0.4141 | g_loss: 8.5366\n",
      "Epoch [   53/  100] | d_loss: 0.3537 | g_loss: 9.8228\n",
      "Epoch [   53/  100] | d_loss: 0.3590 | g_loss: 13.2327\n",
      "Epoch [   53/  100] | d_loss: 0.3665 | g_loss: 14.9395\n",
      "Epoch [   54/  100] | d_loss: 0.3635 | g_loss: 9.0129\n",
      "Epoch [   54/  100] | d_loss: 0.3591 | g_loss: 17.2304\n",
      "Epoch [   54/  100] | d_loss: 0.3520 | g_loss: 15.9330\n",
      "Epoch [   55/  100] | d_loss: 0.3388 | g_loss: 16.3539\n",
      "Epoch [   55/  100] | d_loss: 0.3297 | g_loss: 18.0989\n",
      "Epoch [   55/  100] | d_loss: 0.3615 | g_loss: 13.9819\n",
      "Epoch [   56/  100] | d_loss: 0.3363 | g_loss: 14.3028\n",
      "Epoch [   56/  100] | d_loss: 0.3472 | g_loss: 16.2137\n",
      "Epoch [   56/  100] | d_loss: 0.3421 | g_loss: 12.6436\n",
      "Epoch [   57/  100] | d_loss: 0.3381 | g_loss: 11.1957\n",
      "Epoch [   57/  100] | d_loss: 0.3879 | g_loss: 17.0172\n",
      "Epoch [   57/  100] | d_loss: 0.3476 | g_loss: 13.4681\n",
      "Epoch [   58/  100] | d_loss: 0.3567 | g_loss: 11.8324\n",
      "Epoch [   58/  100] | d_loss: 0.3580 | g_loss: 11.8858\n",
      "Epoch [   58/  100] | d_loss: 0.3552 | g_loss: 11.2293\n",
      "Epoch [   59/  100] | d_loss: 0.3595 | g_loss: 14.4518\n",
      "Epoch [   59/  100] | d_loss: 0.4006 | g_loss: 10.8120\n",
      "Epoch [   59/  100] | d_loss: 0.3398 | g_loss: 11.8323\n",
      "Epoch [   60/  100] | d_loss: 0.3519 | g_loss: 13.1847\n",
      "Epoch [   60/  100] | d_loss: 0.3520 | g_loss: 14.4387\n",
      "Epoch [   60/  100] | d_loss: 0.3430 | g_loss: 13.1666\n",
      "Epoch [   61/  100] | d_loss: 0.3644 | g_loss: 12.0833\n",
      "Epoch [   61/  100] | d_loss: 0.3690 | g_loss: 11.4623\n",
      "Epoch [   61/  100] | d_loss: 0.3435 | g_loss: 15.9475\n",
      "Epoch [   62/  100] | d_loss: 0.3522 | g_loss: 16.7551\n",
      "Epoch [   62/  100] | d_loss: 0.3416 | g_loss: 12.3090\n",
      "Epoch [   62/  100] | d_loss: 0.3416 | g_loss: 14.4554\n",
      "Epoch [   63/  100] | d_loss: 0.3525 | g_loss: 12.6017\n",
      "Epoch [   63/  100] | d_loss: 0.3817 | g_loss: 18.5090\n",
      "Epoch [   63/  100] | d_loss: 0.3780 | g_loss: 14.3431\n",
      "Epoch [   64/  100] | d_loss: 0.3502 | g_loss: 11.8825\n",
      "Epoch [   64/  100] | d_loss: 0.3480 | g_loss: 13.4343\n",
      "Epoch [   64/  100] | d_loss: 0.3471 | g_loss: 16.4055\n",
      "Epoch [   65/  100] | d_loss: 0.3438 | g_loss: 13.4865\n",
      "Epoch [   65/  100] | d_loss: 0.3428 | g_loss: 19.6035\n",
      "Epoch [   65/  100] | d_loss: 0.3417 | g_loss: 12.9292\n",
      "Epoch [   66/  100] | d_loss: 0.3498 | g_loss: 13.7477\n",
      "Epoch [   66/  100] | d_loss: 0.3399 | g_loss: 13.2543\n",
      "Epoch [   66/  100] | d_loss: 0.3355 | g_loss: 13.3669\n",
      "Epoch [   67/  100] | d_loss: 0.4224 | g_loss: 12.6937\n",
      "Epoch [   67/  100] | d_loss: 0.3776 | g_loss: 12.6035\n",
      "Epoch [   67/  100] | d_loss: 0.3404 | g_loss: 14.8216\n",
      "Epoch [   68/  100] | d_loss: 0.3551 | g_loss: 10.1438\n",
      "Epoch [   68/  100] | d_loss: 0.4605 | g_loss: 15.8250\n",
      "Epoch [   68/  100] | d_loss: 0.3372 | g_loss: 14.1060\n",
      "Epoch [   69/  100] | d_loss: 0.3991 | g_loss: 12.1066\n",
      "Epoch [   69/  100] | d_loss: 0.3720 | g_loss: 11.8686\n",
      "Epoch [   69/  100] | d_loss: 0.3369 | g_loss: 11.8689\n",
      "Epoch [   70/  100] | d_loss: 0.3743 | g_loss: 14.6684\n",
      "Epoch [   70/  100] | d_loss: 0.4058 | g_loss: 14.1488\n",
      "Epoch [   70/  100] | d_loss: 0.3595 | g_loss: 14.6731\n",
      "Epoch [   71/  100] | d_loss: 0.3459 | g_loss: 11.8128\n",
      "Epoch [   71/  100] | d_loss: 0.3422 | g_loss: 13.6852\n",
      "Epoch [   71/  100] | d_loss: 0.3409 | g_loss: 12.2923\n",
      "Epoch [   72/  100] | d_loss: 0.3471 | g_loss: 11.9456\n",
      "Epoch [   72/  100] | d_loss: 0.3635 | g_loss: 15.7646\n",
      "Epoch [   72/  100] | d_loss: 0.3869 | g_loss: 14.0969\n",
      "Epoch [   73/  100] | d_loss: 0.3863 | g_loss: 14.7234\n",
      "Epoch [   73/  100] | d_loss: 0.3668 | g_loss: 13.1183\n",
      "Epoch [   73/  100] | d_loss: 0.3420 | g_loss: 18.3268\n",
      "Epoch [   74/  100] | d_loss: 0.3726 | g_loss: 12.3881\n",
      "Epoch [   74/  100] | d_loss: 0.3886 | g_loss: 18.5949\n",
      "Epoch [   74/  100] | d_loss: 0.3483 | g_loss: 14.5543\n",
      "Epoch [   75/  100] | d_loss: 0.3742 | g_loss: 10.0270\n",
      "Epoch [   75/  100] | d_loss: 0.3806 | g_loss: 19.3993\n",
      "Epoch [   75/  100] | d_loss: 0.3399 | g_loss: 15.1350\n",
      "Epoch [   76/  100] | d_loss: 0.3613 | g_loss: 12.2845\n",
      "Epoch [   76/  100] | d_loss: 0.3841 | g_loss: 14.9259\n",
      "Epoch [   76/  100] | d_loss: 0.3367 | g_loss: 14.2275\n",
      "Epoch [   77/  100] | d_loss: 0.3603 | g_loss: 8.7815\n",
      "Epoch [   77/  100] | d_loss: 0.3535 | g_loss: 12.8519\n",
      "Epoch [   77/  100] | d_loss: 0.3719 | g_loss: 14.0453\n",
      "Epoch [   78/  100] | d_loss: 0.3386 | g_loss: 12.2560\n",
      "Epoch [   78/  100] | d_loss: 0.3477 | g_loss: 12.0180\n",
      "Epoch [   78/  100] | d_loss: 0.3467 | g_loss: 15.0175\n",
      "Epoch [   79/  100] | d_loss: 0.3467 | g_loss: 12.4220\n",
      "Epoch [   79/  100] | d_loss: 0.3399 | g_loss: 14.9267\n",
      "Epoch [   79/  100] | d_loss: 0.3775 | g_loss: 13.8258\n",
      "Epoch [   80/  100] | d_loss: 0.3389 | g_loss: 12.6065\n",
      "Epoch [   80/  100] | d_loss: 0.3445 | g_loss: 14.1815\n",
      "Epoch [   80/  100] | d_loss: 0.3882 | g_loss: 14.0608\n",
      "Epoch [   81/  100] | d_loss: 0.3449 | g_loss: 13.2363\n",
      "Epoch [   81/  100] | d_loss: 0.3330 | g_loss: 12.5258\n",
      "Epoch [   81/  100] | d_loss: 0.3640 | g_loss: 15.7101\n",
      "Epoch [   82/  100] | d_loss: 0.3457 | g_loss: 15.2170\n",
      "Epoch [   82/  100] | d_loss: 0.3665 | g_loss: 15.9958\n",
      "Epoch [   82/  100] | d_loss: 0.3575 | g_loss: 13.6601\n",
      "Epoch [   83/  100] | d_loss: 0.3361 | g_loss: 14.7046\n",
      "Epoch [   83/  100] | d_loss: 0.3457 | g_loss: 12.2567\n",
      "Epoch [   83/  100] | d_loss: 0.3983 | g_loss: 15.2396\n",
      "Epoch [   84/  100] | d_loss: 0.3600 | g_loss: 13.5622\n",
      "Epoch [   84/  100] | d_loss: 0.3503 | g_loss: 15.1167\n",
      "Epoch [   84/  100] | d_loss: 0.3763 | g_loss: 16.2080\n",
      "Epoch [   85/  100] | d_loss: 0.3418 | g_loss: 14.0356\n",
      "Epoch [   85/  100] | d_loss: 0.3479 | g_loss: 17.5208\n",
      "Epoch [   85/  100] | d_loss: 0.3668 | g_loss: 17.7044\n",
      "Epoch [   86/  100] | d_loss: 0.3339 | g_loss: 19.2264\n",
      "Epoch [   86/  100] | d_loss: 0.4215 | g_loss: 16.9272\n",
      "Epoch [   86/  100] | d_loss: 0.3351 | g_loss: 15.1539\n",
      "Epoch [   87/  100] | d_loss: 0.3516 | g_loss: 16.2109\n",
      "Epoch [   87/  100] | d_loss: 0.3540 | g_loss: 16.6128\n",
      "Epoch [   87/  100] | d_loss: 0.3522 | g_loss: 13.7510\n",
      "Epoch [   88/  100] | d_loss: 0.3434 | g_loss: 13.3057\n",
      "Epoch [   88/  100] | d_loss: 0.3632 | g_loss: 12.3128\n",
      "Epoch [   88/  100] | d_loss: 0.3527 | g_loss: 15.8975\n",
      "Epoch [   89/  100] | d_loss: 0.3502 | g_loss: 14.9172\n",
      "Epoch [   89/  100] | d_loss: 0.3423 | g_loss: 13.0555\n",
      "Epoch [   89/  100] | d_loss: 0.3492 | g_loss: 18.8612\n",
      "Epoch [   90/  100] | d_loss: 0.3329 | g_loss: 19.0439\n",
      "Epoch [   90/  100] | d_loss: 0.3665 | g_loss: 15.1725\n",
      "Epoch [   90/  100] | d_loss: 0.3627 | g_loss: 15.8130\n",
      "Epoch [   91/  100] | d_loss: 0.3782 | g_loss: 12.4477\n",
      "Epoch [   91/  100] | d_loss: 0.3748 | g_loss: 17.0544\n",
      "Epoch [   91/  100] | d_loss: 0.3759 | g_loss: 17.7009\n",
      "Epoch [   92/  100] | d_loss: 0.3788 | g_loss: 12.6481\n",
      "Epoch [   92/  100] | d_loss: 0.3392 | g_loss: 19.1076\n",
      "Epoch [   92/  100] | d_loss: 0.3544 | g_loss: 11.7294\n",
      "Epoch [   93/  100] | d_loss: 0.3441 | g_loss: 10.1442\n",
      "Epoch [   93/  100] | d_loss: 0.3493 | g_loss: 17.3732\n",
      "Epoch [   93/  100] | d_loss: 0.3446 | g_loss: 17.2583\n",
      "Epoch [   94/  100] | d_loss: 0.3339 | g_loss: 12.5470\n",
      "Epoch [   94/  100] | d_loss: 0.3434 | g_loss: 16.6869\n",
      "Epoch [   94/  100] | d_loss: 0.3540 | g_loss: 17.0015\n",
      "Epoch [   95/  100] | d_loss: 0.3369 | g_loss: 12.0873\n",
      "Epoch [   95/  100] | d_loss: 0.3442 | g_loss: 13.3640\n",
      "Epoch [   95/  100] | d_loss: 0.4143 | g_loss: 17.7064\n",
      "Epoch [   96/  100] | d_loss: 0.3508 | g_loss: 15.1883\n",
      "Epoch [   96/  100] | d_loss: 0.3704 | g_loss: 13.5423\n",
      "Epoch [   96/  100] | d_loss: 0.3392 | g_loss: 18.4908\n",
      "Epoch [   97/  100] | d_loss: 0.3397 | g_loss: 13.8244\n",
      "Epoch [   97/  100] | d_loss: 0.3442 | g_loss: 14.9391\n",
      "Epoch [   97/  100] | d_loss: 0.3431 | g_loss: 13.1628\n",
      "Epoch [   98/  100] | d_loss: 0.3958 | g_loss: 14.0386\n",
      "Epoch [   98/  100] | d_loss: 0.3416 | g_loss: 13.3997\n",
      "Epoch [   98/  100] | d_loss: 0.3518 | g_loss: 16.2256\n",
      "Epoch [   99/  100] | d_loss: 0.4295 | g_loss: 10.4377\n",
      "Epoch [   99/  100] | d_loss: 0.3493 | g_loss: 16.5008\n",
      "Epoch [   99/  100] | d_loss: 0.3454 | g_loss: 16.2490\n",
      "Epoch [  100/  100] | d_loss: 0.3422 | g_loss: 18.1544\n",
      "Epoch [  100/  100] | d_loss: 0.3428 | g_loss: 16.0540\n",
      "Epoch [  100/  100] | d_loss: 0.3538 | g_loss: 16.9668\n"
     ]
    }
   ],
   "source": [
    "import pickle as pkl\n",
    "\n",
    "# training hyperparams\n",
    "num_epochs = 100\n",
    "\n",
    "# keep track of loss and generated, \"fake\" samples\n",
    "samples = []\n",
    "losses = []\n",
    "\n",
    "print_every = 400\n",
    "\n",
    "# Get some fixed data for sampling. These are images that are held\n",
    "# constant throughout training, and allow us to inspect the model's performance\n",
    "sample_size=16\n",
    "fixed_z = np.random.uniform(-1, 1, size=(sample_size, z_size))\n",
    "fixed_z = torch.from_numpy(fixed_z).float()\n",
    "\n",
    "# train the network\n",
    "D.train()\n",
    "G.train()\n",
    "for epoch in range(num_epochs):\n",
    "    \n",
    "    for batch_i, (real_images, _) in enumerate(train_loader):\n",
    "                \n",
    "        batch_size = real_images.size(0)\n",
    "        \n",
    "        ## Important rescaling step ## \n",
    "        real_images = real_images*2 - 1  # rescale input images from [0,1) to [-1, 1)\n",
    "        \n",
    "        # ============================================\n",
    "        #            TRAIN THE DISCRIMINATOR\n",
    "        # ============================================\n",
    "        \n",
    "        d_optimizer.zero_grad()\n",
    "        \n",
    "        # 1. Train with real images\n",
    "\n",
    "        # Compute the discriminator losses on real images \n",
    "        # smooth the real labels\n",
    "        D_real = D(real_images)\n",
    "        d_real_loss = real_loss(D_real, smooth=True)\n",
    "        \n",
    "        # 2. Train with fake images\n",
    "        \n",
    "        # Generate fake images\n",
    "        z = np.random.uniform(-1, 1, size=(batch_size, z_size))\n",
    "        z = torch.from_numpy(z).float()\n",
    "        fake_images = G(z)\n",
    "        \n",
    "        # Compute the discriminator losses on fake images        \n",
    "        D_fake = D(fake_images)\n",
    "        d_fake_loss = fake_loss(D_fake)\n",
    "        \n",
    "        # add up loss and perform backprop\n",
    "        d_loss = d_real_loss + d_fake_loss\n",
    "        d_loss.backward()\n",
    "        d_optimizer.step()\n",
    "        \n",
    "        \n",
    "        # =========================================\n",
    "        #            TRAIN THE GENERATOR\n",
    "        # =========================================\n",
    "        g_optimizer.zero_grad()\n",
    "        \n",
    "        # 1. Train with fake images and flipped labels\n",
    "        \n",
    "        # Generate fake images\n",
    "        z = np.random.uniform(-1, 1, size=(batch_size, z_size))\n",
    "        z = torch.from_numpy(z).float()\n",
    "        fake_images = G(z)\n",
    "        \n",
    "        # Compute the discriminator losses on fake images \n",
    "        # using flipped labels!\n",
    "        D_fake = D(fake_images)\n",
    "        g_loss = real_loss(D_fake) # use real loss to flip labels\n",
    "        \n",
    "        # perform backprop\n",
    "        g_loss.backward()\n",
    "        g_optimizer.step()\n",
    "\n",
    "        # Print some loss stats\n",
    "        if batch_i % print_every == 0:\n",
    "            # print discriminator and generator loss\n",
    "            print('Epoch [{:5d}/{:5d}] | d_loss: {:6.4f} | g_loss: {:6.4f}'.format(\n",
    "                    epoch+1, num_epochs, d_loss.item(), g_loss.item()))\n",
    "\n",
    "    \n",
    "    ## AFTER EACH EPOCH##\n",
    "    # append discriminator loss and generator loss\n",
    "    losses.append((d_loss.item(), g_loss.item()))\n",
    "    \n",
    "    # generate and save sample, fake images\n",
    "    G.eval() # eval mode for generating samples\n",
    "    samples_z = G(fixed_z)\n",
    "    samples.append(samples_z)\n",
    "    G.train() # back to train mode\n",
    "\n",
    "\n",
    "# Save training generator samples\n",
    "with open('train_samples.pkl', 'wb') as f:\n",
    "    pkl.dump(samples, f)"
   ]
  },
  {
   "cell_type": "markdown",
   "metadata": {},
   "source": [
    "## Training loss\n",
    "\n",
    "Here we'll plot the training losses for the generator and discriminator, recorded after each epoch."
   ]
  },
  {
   "cell_type": "code",
   "execution_count": 11,
   "metadata": {},
   "outputs": [
    {
     "data": {
      "text/plain": [
       "<matplotlib.legend.Legend at 0x7f8420a182b0>"
      ]
     },
     "execution_count": 11,
     "metadata": {},
     "output_type": "execute_result"
    },
    {
     "data": {
      "image/png": "[encoded data removed]",
      "text/plain": [
       "<matplotlib.figure.Figure at 0x7f842a92b358>"
      ]
     },
     "metadata": {
      "needs_background": "light"
     },
     "output_type": "display_data"
    }
   ],
   "source": [
    "fig, ax = plt.subplots()\n",
    "losses = np.array(losses)\n",
    "plt.plot(losses.T[0], label='Discriminator')\n",
    "plt.plot(losses.T[1], label='Generator')\n",
    "plt.title(\"Training Losses\")\n",
    "plt.legend()"
   ]
  },
  {
   "cell_type": "markdown",
   "metadata": {},
   "source": [
    "## Generator samples from training\n",
    "\n",
    "Here we can view samples of images from the generator. First we'll look at the images we saved during training."
   ]
  },
  {
   "cell_type": "code",
   "execution_count": 12,
   "metadata": {},
   "outputs": [],
   "source": [
    "# helper function for viewing a list of passed in sample images\n",
    "def view_samples(epoch, samples):\n",
    "    fig, axes = plt.subplots(figsize=(7,7), nrows=4, ncols=4, sharey=True, sharex=True)\n",
    "    for ax, img in zip(axes.flatten(), samples[epoch]):\n",
    "        img = img.detach()\n",
    "        ax.xaxis.set_visible(False)\n",
    "        ax.yaxis.set_visible(False)\n",
    "        im = ax.imshow(img.reshape((28,28)), cmap='Greys_r')"
   ]
  },
  {
   "cell_type": "code",
   "execution_count": 13,
   "metadata": {},
   "outputs": [],
   "source": [
    "# Load samples from generator, taken while training\n",
    "with open('train_samples.pkl', 'rb') as f:\n",
    "    samples = pkl.load(f)"
   ]
  },
  {
   "cell_type": "markdown",
   "metadata": {},
   "source": [
    "These are samples from the final training epoch. You can see the generator is able to reproduce numbers like 1, 7, 3, 2. Since this is just a sample, it isn't representative of the full range of images this generator can make."
   ]
  },
  {
   "cell_type": "code",
   "execution_count": 14,
   "metadata": {},
   "outputs": [
    {
     "data": {
      "image/png": "[encoded data removed]",
      "text/plain": [
       "<matplotlib.figure.Figure at 0x7f8420a365f8>"
      ]
     },
     "metadata": {
      "needs_background": "light"
     },
     "output_type": "display_data"
    }
   ],
   "source": [
    "# -1 indicates final epoch's samples (the last in the list)\n",
    "view_samples(-1, samples)"
   ]
  },
  {
   "cell_type": "markdown",
   "metadata": {},
   "source": [
    "Below I'm showing the generated images as the network was training, every 10 epochs."
   ]
  },
  {
   "cell_type": "code",
   "execution_count": 15,
   "metadata": {},
   "outputs": [
    {
     "data": {
      "image/png": "[encoded data removed]",
      "text/plain": [
       "<matplotlib.figure.Figure at 0x7f8421a23400>"
      ]
     },
     "metadata": {
      "needs_background": "light"
     },
     "output_type": "display_data"
    }
   ],
   "source": [
    "rows = 10 # split epochs into 10, so 100/10 = every 10 epochs\n",
    "cols = 6\n",
    "fig, axes = plt.subplots(figsize=(7,12), nrows=rows, ncols=cols, sharex=True, sharey=True)\n",
    "\n",
    "for sample, ax_row in zip(samples[::int(len(samples)/rows)], axes):\n",
    "    for img, ax in zip(sample[::int(len(sample)/cols)], ax_row):\n",
    "        img = img.detach()\n",
    "        ax.imshow(img.reshape((28,28)), cmap='Greys_r')\n",
    "        ax.xaxis.set_visible(False)\n",
    "        ax.yaxis.set_visible(False)"
   ]
  },
  {
   "cell_type": "markdown",
   "metadata": {},
   "source": [
    "It starts out as all noise. Then it learns to make only the center white and the rest black. You can start to see some number like structures appear out of the noise like 1s and 9s."
   ]
  },
  {
   "cell_type": "markdown",
   "metadata": {},
   "source": [
    "## Sampling from the generator\n",
    "\n",
    "We can also get completely new images from the generator by using the checkpoint we saved after training. **We just need to pass in a new latent vector $z$ and we'll get new samples**!"
   ]
  },
  {
   "cell_type": "code",
   "execution_count": 16,
   "metadata": {},
   "outputs": [
    {
     "data": {
      "image/png": "[encoded data removed]",
      "text/plain": [
       "<matplotlib.figure.Figure at 0x7f8420e2beb8>"
      ]
     },
     "metadata": {
      "needs_background": "light"
     },
     "output_type": "display_data"
    }
   ],
   "source": [
    "# randomly generated, new latent vectors\n",
    "sample_size=16\n",
    "rand_z = np.random.uniform(-1, 1, size=(sample_size, z_size))\n",
    "rand_z = torch.from_numpy(rand_z).float()\n",
    "\n",
    "G.eval() # eval mode\n",
    "# generated samples\n",
    "rand_images = G(rand_z)\n",
    "\n",
    "# 0 indicates the first set of samples in the passed in list\n",
    "# and we only have one batch of samples, here\n",
    "view_samples(0, [rand_images])"
   ]
  },
  {
   "cell_type": "code",
   "execution_count": null,
   "metadata": {},
   "outputs": [],
   "source": []
  }
 ],
 "metadata": {
  "kernelspec": {
   "display_name": "Python 3",
   "language": "python",
   "name": "python3"
  },
  "language_info": {
   "codemirror_mode": {
    "name": "ipython",
    "version": 3
   },
   "file_extension": ".py",
   "mimetype": "text/x-python",
   "name": "python",
   "nbconvert_exporter": "python",
   "pygments_lexer": "ipython3",
   "version": "3.6.3"
  }
 },
 "nbformat": 4,
 "nbformat_minor": 2
}
