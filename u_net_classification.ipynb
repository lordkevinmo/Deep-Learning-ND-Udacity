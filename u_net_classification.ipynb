{
  "nbformat": 4,
  "nbformat_minor": 0,
  "metadata": {
    "colab": {
      "name": "u_net_classification.ipynb",
      "provenance": [],
      "collapsed_sections": [],
      "authorship_tag": "ABX9TyOGWTL/kfUX0ZpFMCy7OFES",
      "include_colab_link": true
    },
    "kernelspec": {
      "name": "python3",
      "display_name": "Python 3"
    },
    "accelerator": "GPU"
  },
  "cells": [
    {
      "cell_type": "markdown",
      "metadata": {
        "id": "view-in-github",
        "colab_type": "text"
      },
      "source": [
        "<a href=\"https://colab.research.google.com/github/lordkevinmo/bertelsmann-tech-scholarship-challenge/blob/master/u_net_classification.ipynb\" target=\"_parent\"><img src=\"https://colab.research.google.com/assets/colab-badge.svg\" alt=\"Open In Colab\"/></a>"
      ]
    },
    {
      "cell_type": "code",
      "metadata": {
        "id": "n1NK0_5Ije_w",
        "colab_type": "code",
        "colab": {}
      },
      "source": [
        "import numpy as np\n",
        "import torch\n",
        "import torch.nn as nn\n",
        "import torch.optim as optim\n",
        "import torch.nn.functional as F"
      ],
      "execution_count": 0,
      "outputs": []
    },
    {
      "cell_type": "code",
      "metadata": {
        "id": "G3yw0ZIGkYN7",
        "colab_type": "code",
        "colab": {}
      },
      "source": [
        "import matplotlib.pyplot as plt\n",
        "%matplotlib inline\n",
        "\n",
        "def imshow(img):\n",
        "  img = img/2 + 0.5\n",
        "  plt.show(np.transpose(img, (1,2,0)))"
      ],
      "execution_count": 0,
      "outputs": []
    },
    {
      "cell_type": "code",
      "metadata": {
        "id": "9ohOCCiik0fg",
        "colab_type": "code",
        "colab": {}
      },
      "source": [
        "\"\"\" \n",
        "  Double conv 2D in UNET architecture.\n",
        "  Each DOuble Conv represents :\n",
        "  2 x Conv -> Batch_normalization -> ReLU\n",
        "\"\"\"\n",
        "class DoubleConv2D(nn.Module):\n",
        "  def __init__(self, in_channels, out_channels):\n",
        "    super(DoubleConv2D, self).__init__()\n",
        "    self.conv = nn.Sequential(\n",
        "        nn.Conv2d(in_channels, out_channels, kernel_size=3, padding=1),\n",
        "        nn.BatchNorm2d(out_channels),\n",
        "        nn.ReLU(inplace=True),\n",
        "        nn.Conv2d(out_channels, out_channels, kernel_size=3, padding=1),\n",
        "        nn.BatchNorm2d(out_channels),\n",
        "        nn.ReLU(inplace=True)\n",
        "    )\n",
        "  \n",
        "  def forward(self,x):\n",
        "    return self.conv(x)\n"
      ],
      "execution_count": 0,
      "outputs": []
    },
    {
      "cell_type": "code",
      "metadata": {
        "id": "0KV0PIFceVaz",
        "colab_type": "code",
        "colab": {}
      },
      "source": [
        "\"\"\"\"\n",
        "  Downscaling with maxpool of kernel size (2,2)\n",
        "  and followed by double conv\n",
        "\"\"\"\n",
        "class DownScaling(nn.Module):\n",
        "  def __init__(self, in_channels, out_channels):\n",
        "    super(DownScaling, self).__init__()\n",
        "    self.pooling_double_conv = nn.Sequential(\n",
        "        nn.MaxPool2d(2),\n",
        "        DoubleConv2D(in_channels, out_channels)\n",
        "    )\n",
        "\n",
        "  def forward(self, x):\n",
        "    return self.pooling_double_conv(x)"
      ],
      "execution_count": 0,
      "outputs": []
    },
    {
      "cell_type": "code",
      "metadata": {
        "id": "3w43U4SHlDHG",
        "colab_type": "code",
        "colab": {}
      },
      "source": [
        "\"\"\"\n",
        "  Upscaling + Double conv\n",
        "\"\"\"\n",
        "class UpScaling(nn.Module):\n",
        "  def __init__(self, in_channels, out_channels):\n",
        "    super(UpScaling, self).__init__()\n",
        "    self.up = nn.ConvTranspoee2d(in_channels//2, in_channels//2, kernel_size=2, strides=2)\n",
        "    self.dConv = DoubleConv2D(in_channels, out_channels)\n",
        "  \n",
        "  def forward(self, x, y):\n",
        "    #upsampling x\n",
        "    x = self.up(x)\n",
        "    #Compute difference vector of W and H for x and y\n",
        "    #input type : [C, H, W]\n",
        "    heightDiff = y.size()[2] - x.size()[2]\n",
        "    widthDiff = y.size()[3] - x.size()[3]\n",
        "    #convert differrence to tensor\n",
        "    heightTensor = torch.tensor(heightDiff)\n",
        "    widthTensor = torch.tensor(widthDiff)\n",
        "    #Pads the input tensor boundaries with some values\n",
        "    x = F.pad(x1, [heightTensor//2, heightTensor - heightTensor//2,\n",
        "                   widthTensor//2, widthTensor - widthTensor//2])\n",
        "    #Concatenates [y, x] with dimension 1\n",
        "    output = torch.cat([y, x], dim=1)\n",
        "    return self.dConv(output)\n",
        "\n"
      ],
      "execution_count": 0,
      "outputs": []
    },
    {
      "cell_type": "code",
      "metadata": {
        "id": "xAJrE9BWXxqo",
        "colab_type": "code",
        "colab": {}
      },
      "source": [
        "\"\"\"\n",
        "  Output convolution\n",
        "\"\"\"\n",
        "class OutputConv2D(nn.Module):\n",
        "  def __init__(self, in_channels, out_channels):\n",
        "    super(OutputConv2D, self).__init__()\n",
        "    self.conv = nn.Conv2d(in_channels, out_channels, kernel_size=1)\n",
        "  \n",
        "  def forward(self, x):\n",
        "    return self.conv(x)\n",
        "  "
      ],
      "execution_count": 0,
      "outputs": []
    }
  ]
}