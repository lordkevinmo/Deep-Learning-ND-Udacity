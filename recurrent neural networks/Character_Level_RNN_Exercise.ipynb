{
  "nbformat": 4,
  "nbformat_minor": 0,
  "metadata": {
    "kernelspec": {
      "name": "python3",
      "display_name": "Python 3"
    },
    "language_info": {
      "codemirror_mode": {
        "name": "ipython",
        "version": 3
      },
      "file_extension": ".py",
      "mimetype": "text/x-python",
      "name": "python",
      "nbconvert_exporter": "python",
      "pygments_lexer": "ipython3",
      "version": "3.6.4"
    },
    "colab": {
      "name": "Character_Level_RNN_Exercise.ipynb",
      "provenance": []
    },
    "accelerator": "GPU"
  },
  "cells": [
    {
      "cell_type": "markdown",
      "metadata": {
        "id": "nTKJA_Gsao2H",
        "colab_type": "text"
      },
      "source": [
        "# Character-Level LSTM in PyTorch\n",
        "\n",
        "In this notebook, I'll construct a character-level LSTM with PyTorch. The network will train character by character on some text, then generate new text character by character. As an example, I will train on Anna Karenina. **This model will be able to generate new text based on the text from the book!**\n",
        "\n",
        "This network is based off of Andrej Karpathy's [post on RNNs](http://karpathy.github.io/2015/05/21/rnn-effectiveness/) and [implementation in Torch](https://github.com/karpathy/char-rnn). Below is the general architecture of the character-wise RNN.\n",
        "\n",
        "<img src=\"https://github.com/udacity/deep-learning-v2-pytorch/blob/master/recurrent-neural-networks/char-rnn/assets/charseq.jpeg?raw=1\" width=\"500\">"
      ]
    },
    {
      "cell_type": "markdown",
      "metadata": {
        "id": "Rat1mQ2zao2K",
        "colab_type": "text"
      },
      "source": [
        "First let's load in our required resources for data loading and model creation."
      ]
    },
    {
      "cell_type": "code",
      "metadata": {
        "id": "FW0PxvbFao2L",
        "colab_type": "code",
        "colab": {}
      },
      "source": [
        "import numpy as np\n",
        "import torch\n",
        "from torch import nn\n",
        "import torch.nn.functional as F"
      ],
      "execution_count": 0,
      "outputs": []
    },
    {
      "cell_type": "markdown",
      "metadata": {
        "id": "4zTahqgyao2O",
        "colab_type": "text"
      },
      "source": [
        "## Load in Data\n",
        "\n",
        "Then, we'll load the Anna Karenina text file and convert it into integers for our network to use. "
      ]
    },
    {
      "cell_type": "code",
      "metadata": {
        "id": "v0u0QzzNao2P",
        "colab_type": "code",
        "colab": {}
      },
      "source": [
        "# open text file and read in data as `text`\n",
        "with open('sample_data/anna.txt', 'r') as f:\n",
        "    text = f.read()"
      ],
      "execution_count": 0,
      "outputs": []
    },
    {
      "cell_type": "markdown",
      "metadata": {
        "id": "g7sJWOHiao2R",
        "colab_type": "text"
      },
      "source": [
        "Let's check out the first 100 characters, make sure everything is peachy. According to the [American Book Review](http://americanbookreview.org/100bestlines.asp), this is the 6th best first line of a book ever."
      ]
    },
    {
      "cell_type": "code",
      "metadata": {
        "id": "gBOvTLUyao2S",
        "colab_type": "code",
        "colab": {
          "base_uri": "https://localhost:8080/",
          "height": 34
        },
        "outputId": "b4def8d5-a02e-4d68-d671-eb127fef45bd"
      },
      "source": [
        "text[:100]"
      ],
      "execution_count": 10,
      "outputs": [
        {
          "output_type": "execute_result",
          "data": {
            "text/plain": [
              "'Chapter 1\\n\\n\\nHappy families are all alike; every unhappy family is unhappy in its own\\nway.\\n\\nEverythin'"
            ]
          },
          "metadata": {
            "tags": []
          },
          "execution_count": 10
        }
      ]
    },
    {
      "cell_type": "markdown",
      "metadata": {
        "id": "7WswsV5Fao2U",
        "colab_type": "text"
      },
      "source": [
        "### Tokenization\n",
        "\n",
        "In the cells, below, I'm creating a couple **dictionaries** to convert the characters to and from integers. Encoding the characters as integers makes it easier to use as input in the network."
      ]
    },
    {
      "cell_type": "code",
      "metadata": {
        "id": "Dk-U1-Tqao2U",
        "colab_type": "code",
        "colab": {}
      },
      "source": [
        "# encode the text and map each character to an integer and vice versa\n",
        "\n",
        "# we create two dictionaries:\n",
        "# 1. int2char, which maps integers to characters\n",
        "# 2. char2int, which maps characters to unique integers\n",
        "chars = tuple(set(text))\n",
        "int2char = dict(enumerate(chars))\n",
        "char2int = {ch: ii for ii, ch in int2char.items()}\n",
        "\n",
        "# encode the text\n",
        "encoded = np.array([char2int[ch] for ch in text])"
      ],
      "execution_count": 0,
      "outputs": []
    },
    {
      "cell_type": "markdown",
      "metadata": {
        "id": "6KaClOBTao2W",
        "colab_type": "text"
      },
      "source": [
        "And we can see those same characters from above, encoded as integers."
      ]
    },
    {
      "cell_type": "code",
      "metadata": {
        "id": "JlijFOSDao2X",
        "colab_type": "code",
        "colab": {
          "base_uri": "https://localhost:8080/",
          "height": 119
        },
        "outputId": "c7fe49e4-9a9a-45ef-b4b3-12967a10bc25"
      },
      "source": [
        "encoded[:100]"
      ],
      "execution_count": 15,
      "outputs": [
        {
          "output_type": "execute_result",
          "data": {
            "text/plain": [
              "array([29, 49, 70,  9,  0, 31, 68, 26, 59, 11, 11, 11, 30, 70,  9,  9, 19,\n",
              "       26, 18, 70, 15, 41, 48, 41, 31, 52, 26, 70, 68, 31, 26, 70, 48, 48,\n",
              "       26, 70, 48, 41, 53, 31, 81, 26, 31, 43, 31, 68, 19, 26, 36, 58, 49,\n",
              "       70,  9,  9, 19, 26, 18, 70, 15, 41, 48, 19, 26, 41, 52, 26, 36, 58,\n",
              "       49, 70,  9,  9, 19, 26, 41, 58, 26, 41,  0, 52, 26, 82, 44, 58, 11,\n",
              "       44, 70, 19, 24, 11, 11, 16, 43, 31, 68, 19,  0, 49, 41, 58])"
            ]
          },
          "metadata": {
            "tags": []
          },
          "execution_count": 15
        }
      ]
    },
    {
      "cell_type": "markdown",
      "metadata": {
        "id": "XDdJTyIAao2Z",
        "colab_type": "text"
      },
      "source": [
        "## Pre-processing the data\n",
        "\n",
        "As you can see in our char-RNN image above, our LSTM expects an input that is **one-hot encoded** meaning that each character is converted into an integer (via our created dictionary) and *then* converted into a column vector where only it's corresponding integer index will have the value of 1 and the rest of the vector will be filled with 0's. Since we're one-hot encoding the data, let's make a function to do that!\n"
      ]
    },
    {
      "cell_type": "code",
      "metadata": {
        "id": "NCliw1pZao2a",
        "colab_type": "code",
        "colab": {}
      },
      "source": [
        "def one_hot_encode(arr, n_labels):\n",
        "    \n",
        "    # Initialize the the encoded array\n",
        "    one_hot = np.zeros((arr.size, n_labels), dtype=np.float32)\n",
        "    \n",
        "    # Fill the appropriate elements with ones\n",
        "    one_hot[np.arange(one_hot.shape[0]), arr.flatten()] = 1.\n",
        "    \n",
        "    # Finally reshape it to get back to the original array\n",
        "    one_hot = one_hot.reshape((*arr.shape, n_labels))\n",
        "    \n",
        "    return one_hot"
      ],
      "execution_count": 0,
      "outputs": []
    },
    {
      "cell_type": "code",
      "metadata": {
        "id": "Jwhxy1Ivao2c",
        "colab_type": "code",
        "colab": {
          "base_uri": "https://localhost:8080/",
          "height": 68
        },
        "outputId": "0082b0a1-8529-480e-ddcf-e88995596b40"
      },
      "source": [
        "# check that the function works as expected\n",
        "test_seq = np.array([[3, 5, 1]])\n",
        "one_hot = one_hot_encode(test_seq, 8)\n",
        "\n",
        "print(one_hot)"
      ],
      "execution_count": 14,
      "outputs": [
        {
          "output_type": "stream",
          "text": [
            "[[[0. 0. 0. 1. 0. 0. 0. 0.]\n",
            "  [0. 0. 0. 0. 0. 1. 0. 0.]\n",
            "  [0. 1. 0. 0. 0. 0. 0. 0.]]]\n"
          ],
          "name": "stdout"
        }
      ]
    },
    {
      "cell_type": "markdown",
      "metadata": {
        "id": "3WS_FEpWao2e",
        "colab_type": "text"
      },
      "source": [
        "## Making training mini-batches\n",
        "\n",
        "\n",
        "To train on this data, we also want to create mini-batches for training. Remember that we want our batches to be multiple sequences of some desired number of sequence steps. Considering a simple example, our batches would look like this:\n",
        "\n",
        "<img src=\"https://github.com/udacity/deep-learning-v2-pytorch/blob/master/recurrent-neural-networks/char-rnn/assets/sequence_batching@1x.png?raw=1\" width=500px>\n",
        "\n",
        "\n",
        "<br>\n",
        "\n",
        "In this example, we'll take the encoded characters (passed in as the `arr` parameter) and split them into multiple sequences, given by `batch_size`. Each of our sequences will be `seq_length` long.\n",
        "\n",
        "### Creating Batches\n",
        "\n",
        "**1. The first thing we need to do is discard some of the text so we only have completely full mini-batches. **\n",
        "\n",
        "Each batch contains $N \\times M$ characters, where $N$ is the batch size (the number of sequences in a batch) and $M$ is the seq_length or number of time steps in a sequence. Then, to get the total number of batches, $K$, that we can make from the array `arr`, you divide the length of `arr` by the number of characters per batch. Once you know the number of batches, you can get the total number of characters to keep from `arr`, $N * M * K$.\n",
        "\n",
        "**2. After that, we need to split `arr` into $N$ batches. ** \n",
        "\n",
        "You can do this using `arr.reshape(size)` where `size` is a tuple containing the dimensions sizes of the reshaped array. We know we want $N$ sequences in a batch, so let's make that the size of the first dimension. For the second dimension, you can use `-1` as a placeholder in the size, it'll fill up the array with the appropriate data for you. After this, you should have an array that is $N \\times (M * K)$.\n",
        "\n",
        "**3. Now that we have this array, we can iterate through it to get our mini-batches. **\n",
        "\n",
        "The idea is each batch is a $N \\times M$ window on the $N \\times (M * K)$ array. For each subsequent batch, the window moves over by `seq_length`. We also want to create both the input and target arrays. Remember that the targets are just the inputs shifted over by one character. The way I like to do this window is use `range` to take steps of size `n_steps` from $0$ to `arr.shape[1]`, the total number of tokens in each sequence. That way, the integers you get from `range` always point to the start of a batch, and each window is `seq_length` wide.\n",
        "\n",
        "> **TODO:** Write the code for creating batches in the function below. The exercises in this notebook _will not be easy_. I've provided a notebook with solutions alongside this notebook. If you get stuck, checkout the solutions. The most important thing is that you don't copy and paste the code into here, **type out the solution code yourself.**"
      ]
    },
    {
      "cell_type": "code",
      "metadata": {
        "id": "izwVpxb_ao2f",
        "colab_type": "code",
        "colab": {}
      },
      "source": [
        "def get_batches(arr, batch_size, seq_length):\n",
        "    '''Create a generator that returns batches of size\n",
        "       batch_size x seq_length from arr.\n",
        "       \n",
        "       Arguments\n",
        "       ---------\n",
        "       arr: Array you want to make batches from\n",
        "       batch_size: Batch size, the number of sequences per batch\n",
        "       seq_length: Number of encoded chars in a sequence\n",
        "    '''\n",
        "    \n",
        "    ## TODO: Get the number of batches we can make\n",
        "    total_batch_size = batch_size*seq_length\n",
        "    n_batches = len(arr)//total_batch_size\n",
        "    \n",
        "    ## TODO: Keep only enough characters to make full batches\n",
        "    arr = arr[:n_batches * total_batch_size]\n",
        "    \n",
        "    ## TODO: Reshape into batch_size rows\n",
        "    arr = arr.reshape((batch_size, -1))\n",
        "    \n",
        "    ## TODO: Iterate over the batches using a window of size seq_length\n",
        "    for n in range(0, arr.shape[1], seq_length):\n",
        "        # The features\n",
        "        x = arr[:, n:n+seq_length]\n",
        "        # The targets, shifted by one\n",
        "        y = np.zeros_like(x)\n",
        "        try:\n",
        "          y[:, :-1], y[:, -1] = x[:,1:], arr[:, n+seq_length]\n",
        "        except IndexError:\n",
        "          y[:, :-1], y[:, -1] = x[:,1:], arr[:,0]\n",
        "        yield x, y"
      ],
      "execution_count": 0,
      "outputs": []
    },
    {
      "cell_type": "markdown",
      "metadata": {
        "id": "mj_u-AbOao2h",
        "colab_type": "text"
      },
      "source": [
        "### Test Your Implementation\n",
        "\n",
        "Now I'll make some data sets and we can check out what's going on as we batch data. Here, as an example, I'm going to use a batch size of 8 and 50 sequence steps."
      ]
    },
    {
      "cell_type": "code",
      "metadata": {
        "id": "CjFp5VZIao2h",
        "colab_type": "code",
        "colab": {}
      },
      "source": [
        "batches = get_batches(encoded, 8, 50)\n",
        "x, y = next(batches)"
      ],
      "execution_count": 0,
      "outputs": []
    },
    {
      "cell_type": "code",
      "metadata": {
        "id": "VHsNI_kVao2j",
        "colab_type": "code",
        "colab": {
          "base_uri": "https://localhost:8080/",
          "height": 340
        },
        "outputId": "c291d705-ee43-4bf9-cc87-d3431d0361de"
      },
      "source": [
        "# printing out the first 10 items in a sequence\n",
        "print('x\\n', x[:10, :10])\n",
        "print('\\ny\\n', y[:10, :10])"
      ],
      "execution_count": 20,
      "outputs": [
        {
          "output_type": "stream",
          "text": [
            "x\n",
            " [[29 49 70  9  0 31 68 26 59 11]\n",
            " [52 82 58 26  0 49 70  0 26 70]\n",
            " [31 58 21 26 82 68 26 70 26 18]\n",
            " [52 26  0 49 31 26 63 49 41 31]\n",
            " [26 52 70 44 26 49 31 68 26  0]\n",
            " [63 36 52 52 41 82 58 26 70 58]\n",
            " [26 54 58 58 70 26 49 70 21 26]\n",
            " [ 8 72 48 82 58 52 53 19 24 26]]\n",
            "\n",
            "y\n",
            " [[49 70  9  0 31 68 26 59 11 11]\n",
            " [82 58 26  0 49 70  0 26 70  0]\n",
            " [58 21 26 82 68 26 70 26 18 82]\n",
            " [26  0 49 31 26 63 49 41 31 18]\n",
            " [52 70 44 26 49 31 68 26  0 31]\n",
            " [36 52 52 41 82 58 26 70 58 21]\n",
            " [54 58 58 70 26 49 70 21 26 52]\n",
            " [72 48 82 58 52 53 19 24 26 73]]\n"
          ],
          "name": "stdout"
        }
      ]
    },
    {
      "cell_type": "markdown",
      "metadata": {
        "id": "vt2HOfA3ao2l",
        "colab_type": "text"
      },
      "source": [
        "If you implemented `get_batches` correctly, the above output should look something like \n",
        "```\n",
        "x\n",
        " [[25  8 60 11 45 27 28 73  1  2]\n",
        " [17  7 20 73 45  8 60 45 73 60]\n",
        " [27 20 80 73  7 28 73 60 73 65]\n",
        " [17 73 45  8 27 73 66  8 46 27]\n",
        " [73 17 60 12 73  8 27 28 73 45]\n",
        " [66 64 17 17 46  7 20 73 60 20]\n",
        " [73 76 20 20 60 73  8 60 80 73]\n",
        " [47 35 43  7 20 17 24 50 37 73]]\n",
        "\n",
        "y\n",
        " [[ 8 60 11 45 27 28 73  1  2  2]\n",
        " [ 7 20 73 45  8 60 45 73 60 45]\n",
        " [20 80 73  7 28 73 60 73 65  7]\n",
        " [73 45  8 27 73 66  8 46 27 65]\n",
        " [17 60 12 73  8 27 28 73 45 27]\n",
        " [64 17 17 46  7 20 73 60 20 80]\n",
        " [76 20 20 60 73  8 60 80 73 17]\n",
        " [35 43  7 20 17 24 50 37 73 36]]\n",
        " ```\n",
        " although the exact numbers may be different. Check to make sure the data is shifted over one step for `y`."
      ]
    },
    {
      "cell_type": "markdown",
      "metadata": {
        "id": "qLMdnMKoao2l",
        "colab_type": "text"
      },
      "source": [
        "---\n",
        "## Defining the network with PyTorch\n",
        "\n",
        "Below is where you'll define the network.\n",
        "\n",
        "<img src=\"https://github.com/udacity/deep-learning-v2-pytorch/blob/master/recurrent-neural-networks/char-rnn/assets/charRNN.png?raw=1\" width=500px>\n",
        "\n",
        "Next, you'll use PyTorch to define the architecture of the network. We start by defining the layers and operations we want. Then, define a method for the forward pass. You've also been given a method for predicting characters."
      ]
    },
    {
      "cell_type": "markdown",
      "metadata": {
        "id": "N-TPkHf_ao2m",
        "colab_type": "text"
      },
      "source": [
        "### Model Structure\n",
        "\n",
        "In `__init__` the suggested structure is as follows:\n",
        "* Create and store the necessary dictionaries (this has been done for you)\n",
        "* Define an LSTM layer that takes as params: an input size (the number of characters), a hidden layer size `n_hidden`, a number of layers `n_layers`, a dropout probability `drop_prob`, and a batch_first boolean (True, since we are batching)\n",
        "* Define a dropout layer with `drop_prob`\n",
        "* Define a fully-connected layer with params: input size `n_hidden` and output size (the number of characters)\n",
        "* Finally, initialize the weights (again, this has been given)\n",
        "\n",
        "Note that some parameters have been named and given in the `__init__` function, and we use them and store them by doing something like `self.drop_prob = drop_prob`."
      ]
    },
    {
      "cell_type": "markdown",
      "metadata": {
        "id": "pLGcRjxWao2m",
        "colab_type": "text"
      },
      "source": [
        "---\n",
        "### LSTM Inputs/Outputs\n",
        "\n",
        "You can create a basic [LSTM layer](https://pytorch.org/docs/stable/nn.html#lstm) as follows\n",
        "\n",
        "```python\n",
        "self.lstm = nn.LSTM(input_size, n_hidden, n_layers, \n",
        "                            dropout=drop_prob, batch_first=True)\n",
        "```\n",
        "\n",
        "where `input_size` is the number of characters this cell expects to see as sequential input, and `n_hidden` is the number of units in the hidden layers in the cell. And we can add dropout by adding a dropout parameter with a specified probability; this will automatically add dropout to the inputs or outputs. Finally, in the `forward` function, we can stack up the LSTM cells into layers using `.view`. With this, you pass in a list of cells and it will send the output of one cell into the next cell.\n",
        "\n",
        "We also need to create an initial hidden state of all zeros. This is done like so\n",
        "\n",
        "```python\n",
        "self.init_hidden()\n",
        "```"
      ]
    },
    {
      "cell_type": "code",
      "metadata": {
        "id": "PE7pLqSyao2n",
        "colab_type": "code",
        "colab": {
          "base_uri": "https://localhost:8080/",
          "height": 34
        },
        "outputId": "e578b24d-b320-4698-b4f6-7ecb834ff949"
      },
      "source": [
        "# check if GPU is available\n",
        "train_on_gpu = torch.cuda.is_available()\n",
        "if(train_on_gpu):\n",
        "    print('Training on GPU!')\n",
        "else: \n",
        "    print('No GPU available, training on CPU; consider making n_epochs very small.')"
      ],
      "execution_count": 21,
      "outputs": [
        {
          "output_type": "stream",
          "text": [
            "Training on GPU!\n"
          ],
          "name": "stdout"
        }
      ]
    },
    {
      "cell_type": "code",
      "metadata": {
        "id": "e3AZhQutao2o",
        "colab_type": "code",
        "colab": {}
      },
      "source": [
        "class CharRNN(nn.Module):\n",
        "    \n",
        "    def __init__(self, tokens, n_hidden=256, n_layers=2,\n",
        "                               drop_prob=0.5, lr=0.001):\n",
        "        super().__init__()\n",
        "        self.drop_prob = drop_prob\n",
        "        self.n_layers = n_layers\n",
        "        self.n_hidden = n_hidden\n",
        "        self.lr = lr\n",
        "        \n",
        "        # creating character dictionaries\n",
        "        self.chars = tokens\n",
        "        self.int2char = dict(enumerate(self.chars))\n",
        "        self.char2int = {ch: ii for ii, ch in self.int2char.items()}\n",
        "        \n",
        "        ## TODO: define the layers of the model\n",
        "        self.lstm = nn.LSTM(len(self.chars), n_hidden, n_layers, dropout=drop_prob, batch_first=True)\n",
        "\n",
        "        #Define dropout\n",
        "        self.dropout = nn.Dropout(drop_prob)\n",
        "\n",
        "        #Fully connected\n",
        "        self.fc = nn.Linear(n_hidden, len(self.chars))\n",
        "    \n",
        "    def forward(self, x, hidden):\n",
        "        ''' Forward pass through the network. \n",
        "            These inputs are x, and the hidden/cell state `hidden`. '''\n",
        "                \n",
        "        ## TODO: Get the outputs and the new hidden state from the lstm\n",
        "        r_output, hidden = self.lstm(x,hidden)\n",
        "\n",
        "        out = self.dropout(r_output)\n",
        "\n",
        "        out = out.contiguous().view(-1, self.n_hidden)\n",
        "\n",
        "        out = self.fc(out)\n",
        "        # return the final output and the hidden state\n",
        "        return out, hidden\n",
        "    \n",
        "    \n",
        "    def init_hidden(self, batch_size):\n",
        "        ''' Initializes hidden state '''\n",
        "        # Create two new tensors with sizes n_layers x batch_size x n_hidden,\n",
        "        # initialized to zero, for hidden state and cell state of LSTM\n",
        "        weight = next(self.parameters()).data\n",
        "        \n",
        "        if (train_on_gpu):\n",
        "            hidden = (weight.new(self.n_layers, batch_size, self.n_hidden).zero_().cuda(),\n",
        "                  weight.new(self.n_layers, batch_size, self.n_hidden).zero_().cuda())\n",
        "        else:\n",
        "            hidden = (weight.new(self.n_layers, batch_size, self.n_hidden).zero_(),\n",
        "                      weight.new(self.n_layers, batch_size, self.n_hidden).zero_())\n",
        "        \n",
        "        return hidden\n",
        "        "
      ],
      "execution_count": 0,
      "outputs": []
    },
    {
      "cell_type": "markdown",
      "metadata": {
        "id": "t2dYwaqUao2q",
        "colab_type": "text"
      },
      "source": [
        "## Time to train\n",
        "\n",
        "The train function gives us the ability to set the number of epochs, the learning rate, and other parameters.\n",
        "\n",
        "Below we're using an Adam optimizer and cross entropy loss since we are looking at character class scores as output. We calculate the loss and perform backpropagation, as usual!\n",
        "\n",
        "A couple of details about training: \n",
        ">* Within the batch loop, we detach the hidden state from its history; this time setting it equal to a new *tuple* variable because an LSTM has a hidden state that is a tuple of the hidden and cell states.\n",
        "* We use [`clip_grad_norm_`](https://pytorch.org/docs/stable/_modules/torch/nn/utils/clip_grad.html) to help prevent exploding gradients."
      ]
    },
    {
      "cell_type": "code",
      "metadata": {
        "id": "xRcL9Bugao2r",
        "colab_type": "code",
        "colab": {}
      },
      "source": [
        "def train(net, data, epochs=10, batch_size=10, seq_length=50, lr=0.001, clip=5, val_frac=0.1, print_every=10):\n",
        "    ''' Training a network \n",
        "    \n",
        "        Arguments\n",
        "        ---------\n",
        "        \n",
        "        net: CharRNN network\n",
        "        data: text data to train the network\n",
        "        epochs: Number of epochs to train\n",
        "        batch_size: Number of mini-sequences per mini-batch, aka batch size\n",
        "        seq_length: Number of character steps per mini-batch\n",
        "        lr: learning rate\n",
        "        clip: gradient clipping\n",
        "        val_frac: Fraction of data to hold out for validation\n",
        "        print_every: Number of steps for printing training and validation loss\n",
        "    \n",
        "    '''\n",
        "    net.train()\n",
        "    \n",
        "    opt = torch.optim.Adam(net.parameters(), lr=lr)\n",
        "    criterion = nn.CrossEntropyLoss()\n",
        "    \n",
        "    # create training and validation data\n",
        "    val_idx = int(len(data)*(1-val_frac))\n",
        "    data, val_data = data[:val_idx], data[val_idx:]\n",
        "    \n",
        "    if(train_on_gpu):\n",
        "        net.cuda()\n",
        "    \n",
        "    counter = 0\n",
        "    n_chars = len(net.chars)\n",
        "    for e in range(epochs):\n",
        "        # initialize hidden state\n",
        "        h = net.init_hidden(batch_size)\n",
        "        \n",
        "        for x, y in get_batches(data, batch_size, seq_length):\n",
        "            counter += 1\n",
        "            \n",
        "            # One-hot encode our data and make them Torch tensors\n",
        "            x = one_hot_encode(x, n_chars)\n",
        "            inputs, targets = torch.from_numpy(x), torch.from_numpy(y)\n",
        "            \n",
        "            if(train_on_gpu):\n",
        "                inputs, targets = inputs.cuda(), targets.cuda()\n",
        "\n",
        "            # Creating new variables for the hidden state, otherwise\n",
        "            # we'd backprop through the entire training history\n",
        "            h = tuple([each.data for each in h])\n",
        "\n",
        "            # zero accumulated gradients\n",
        "            net.zero_grad()\n",
        "            \n",
        "            # get the output from the model\n",
        "            output, h = net(inputs, h)\n",
        "            \n",
        "            # calculate the loss and perform backprop\n",
        "            loss = criterion(output, targets.view(batch_size*seq_length).long())\n",
        "            loss.backward()\n",
        "            # `clip_grad_norm` helps prevent the exploding gradient problem in RNNs / LSTMs.\n",
        "            nn.utils.clip_grad_norm_(net.parameters(), clip)\n",
        "            opt.step()\n",
        "            \n",
        "            # loss stats\n",
        "            if counter % print_every == 0:\n",
        "                # Get validation loss\n",
        "                val_h = net.init_hidden(batch_size)\n",
        "                val_losses = []\n",
        "                net.eval()\n",
        "                for x, y in get_batches(val_data, batch_size, seq_length):\n",
        "                    # One-hot encode our data and make them Torch tensors\n",
        "                    x = one_hot_encode(x, n_chars)\n",
        "                    x, y = torch.from_numpy(x), torch.from_numpy(y)\n",
        "                    \n",
        "                    # Creating new variables for the hidden state, otherwise\n",
        "                    # we'd backprop through the entire training history\n",
        "                    val_h = tuple([each.data for each in val_h])\n",
        "                    \n",
        "                    inputs, targets = x, y\n",
        "                    if(train_on_gpu):\n",
        "                        inputs, targets = inputs.cuda(), targets.cuda()\n",
        "\n",
        "                    output, val_h = net(inputs, val_h)\n",
        "                    val_loss = criterion(output, targets.view(batch_size*seq_length).long())\n",
        "                \n",
        "                    val_losses.append(val_loss.item())\n",
        "                \n",
        "                net.train() # reset to train mode after iterationg through validation data\n",
        "                \n",
        "                print(\"Epoch: {}/{}...\".format(e+1, epochs),\n",
        "                      \"Step: {}...\".format(counter),\n",
        "                      \"Loss: {:.4f}...\".format(loss.item()),\n",
        "                      \"Val Loss: {:.4f}\".format(np.mean(val_losses)))"
      ],
      "execution_count": 0,
      "outputs": []
    },
    {
      "cell_type": "markdown",
      "metadata": {
        "id": "KDASiAizao2t",
        "colab_type": "text"
      },
      "source": [
        "## Instantiating the model\n",
        "\n",
        "Now we can actually train the network. First we'll create the network itself, with some given hyperparameters. Then, define the mini-batches sizes, and start training!"
      ]
    },
    {
      "cell_type": "code",
      "metadata": {
        "id": "BaiyQUGlao2u",
        "colab_type": "code",
        "colab": {
          "base_uri": "https://localhost:8080/",
          "height": 102
        },
        "outputId": "62a57c9f-aee7-4d06-ce43-d9f48a0c58d2"
      },
      "source": [
        "## TODO: set your model hyperparameters\n",
        "# define and print the net\n",
        "n_hidden= 512\n",
        "n_layers= 2\n",
        "\n",
        "net = CharRNN(chars, n_hidden, n_layers)\n",
        "print(net)"
      ],
      "execution_count": 25,
      "outputs": [
        {
          "output_type": "stream",
          "text": [
            "CharRNN(\n",
            "  (lstm): LSTM(83, 512, num_layers=2, batch_first=True, dropout=0.5)\n",
            "  (dropout): Dropout(p=0.5, inplace=False)\n",
            "  (fc): Linear(in_features=512, out_features=83, bias=True)\n",
            ")\n"
          ],
          "name": "stdout"
        }
      ]
    },
    {
      "cell_type": "markdown",
      "metadata": {
        "id": "nCSvzxcnao2w",
        "colab_type": "text"
      },
      "source": [
        "### Set your training hyperparameters!"
      ]
    },
    {
      "cell_type": "code",
      "metadata": {
        "scrolled": true,
        "id": "nJA6aEFMao2w",
        "colab_type": "code",
        "colab": {
          "base_uri": "https://localhost:8080/",
          "height": 1000
        },
        "outputId": "4b489a76-7f4c-414a-c218-6c171c48f69a"
      },
      "source": [
        "batch_size = 128\n",
        "seq_length = 100\n",
        "n_epochs =  20# start small if you are just testing initial behavior\n",
        "\n",
        "# train the model\n",
        "train(net, encoded, epochs=n_epochs, batch_size=batch_size, seq_length=seq_length, lr=0.001, print_every=10)"
      ],
      "execution_count": 26,
      "outputs": [
        {
          "output_type": "stream",
          "text": [
            "Epoch: 1/20... Step: 10... Loss: 3.2608... Val Loss: 3.2254\n",
            "Epoch: 1/20... Step: 20... Loss: 3.1535... Val Loss: 3.1461\n",
            "Epoch: 1/20... Step: 30... Loss: 3.1456... Val Loss: 3.1257\n",
            "Epoch: 1/20... Step: 40... Loss: 3.1174... Val Loss: 3.1198\n",
            "Epoch: 1/20... Step: 50... Loss: 3.1436... Val Loss: 3.1178\n",
            "Epoch: 1/20... Step: 60... Loss: 3.1204... Val Loss: 3.1162\n",
            "Epoch: 1/20... Step: 70... Loss: 3.1088... Val Loss: 3.1151\n",
            "Epoch: 1/20... Step: 80... Loss: 3.1272... Val Loss: 3.1122\n",
            "Epoch: 1/20... Step: 90... Loss: 3.1198... Val Loss: 3.1042\n",
            "Epoch: 1/20... Step: 100... Loss: 3.0949... Val Loss: 3.0851\n",
            "Epoch: 1/20... Step: 110... Loss: 3.0549... Val Loss: 3.0488\n",
            "Epoch: 1/20... Step: 120... Loss: 2.9713... Val Loss: 2.9589\n",
            "Epoch: 1/20... Step: 130... Loss: 2.8995... Val Loss: 2.8673\n",
            "Epoch: 2/20... Step: 140... Loss: 2.8085... Val Loss: 2.7677\n",
            "Epoch: 2/20... Step: 150... Loss: 2.7098... Val Loss: 2.6857\n",
            "Epoch: 2/20... Step: 160... Loss: 2.6062... Val Loss: 2.5572\n",
            "Epoch: 2/20... Step: 170... Loss: 2.5057... Val Loss: 2.4883\n",
            "Epoch: 2/20... Step: 180... Loss: 2.4788... Val Loss: 2.4420\n",
            "Epoch: 2/20... Step: 190... Loss: 2.4159... Val Loss: 2.4069\n",
            "Epoch: 2/20... Step: 200... Loss: 2.4072... Val Loss: 2.3756\n",
            "Epoch: 2/20... Step: 210... Loss: 2.3759... Val Loss: 2.3450\n",
            "Epoch: 2/20... Step: 220... Loss: 2.3228... Val Loss: 2.3149\n",
            "Epoch: 2/20... Step: 230... Loss: 2.3180... Val Loss: 2.2855\n",
            "Epoch: 2/20... Step: 240... Loss: 2.2942... Val Loss: 2.2564\n",
            "Epoch: 2/20... Step: 250... Loss: 2.2200... Val Loss: 2.2266\n",
            "Epoch: 2/20... Step: 260... Loss: 2.1925... Val Loss: 2.2010\n",
            "Epoch: 2/20... Step: 270... Loss: 2.2074... Val Loss: 2.1733\n",
            "Epoch: 3/20... Step: 280... Loss: 2.1904... Val Loss: 2.1483\n",
            "Epoch: 3/20... Step: 290... Loss: 2.1547... Val Loss: 2.1214\n",
            "Epoch: 3/20... Step: 300... Loss: 2.1342... Val Loss: 2.0999\n",
            "Epoch: 3/20... Step: 310... Loss: 2.0945... Val Loss: 2.0818\n",
            "Epoch: 3/20... Step: 320... Loss: 2.0676... Val Loss: 2.0558\n",
            "Epoch: 3/20... Step: 330... Loss: 2.0378... Val Loss: 2.0376\n",
            "Epoch: 3/20... Step: 340... Loss: 2.0595... Val Loss: 2.0180\n",
            "Epoch: 3/20... Step: 350... Loss: 2.0463... Val Loss: 2.0019\n",
            "Epoch: 3/20... Step: 360... Loss: 1.9633... Val Loss: 1.9820\n",
            "Epoch: 3/20... Step: 370... Loss: 1.9975... Val Loss: 1.9651\n",
            "Epoch: 3/20... Step: 380... Loss: 1.9610... Val Loss: 1.9462\n",
            "Epoch: 3/20... Step: 390... Loss: 1.9438... Val Loss: 1.9309\n",
            "Epoch: 3/20... Step: 400... Loss: 1.9164... Val Loss: 1.9173\n",
            "Epoch: 3/20... Step: 410... Loss: 1.9269... Val Loss: 1.8994\n",
            "Epoch: 4/20... Step: 420... Loss: 1.9216... Val Loss: 1.8926\n",
            "Epoch: 4/20... Step: 430... Loss: 1.9099... Val Loss: 1.8730\n",
            "Epoch: 4/20... Step: 440... Loss: 1.8864... Val Loss: 1.8641\n",
            "Epoch: 4/20... Step: 450... Loss: 1.8280... Val Loss: 1.8472\n",
            "Epoch: 4/20... Step: 460... Loss: 1.8186... Val Loss: 1.8376\n",
            "Epoch: 4/20... Step: 470... Loss: 1.8507... Val Loss: 1.8281\n",
            "Epoch: 4/20... Step: 480... Loss: 1.8331... Val Loss: 1.8083\n",
            "Epoch: 4/20... Step: 490... Loss: 1.8430... Val Loss: 1.7998\n",
            "Epoch: 4/20... Step: 500... Loss: 1.8302... Val Loss: 1.7889\n",
            "Epoch: 4/20... Step: 510... Loss: 1.8078... Val Loss: 1.7805\n",
            "Epoch: 4/20... Step: 520... Loss: 1.8222... Val Loss: 1.7703\n",
            "Epoch: 4/20... Step: 530... Loss: 1.7848... Val Loss: 1.7620\n",
            "Epoch: 4/20... Step: 540... Loss: 1.7426... Val Loss: 1.7550\n",
            "Epoch: 4/20... Step: 550... Loss: 1.7925... Val Loss: 1.7461\n",
            "Epoch: 5/20... Step: 560... Loss: 1.7601... Val Loss: 1.7335\n",
            "Epoch: 5/20... Step: 570... Loss: 1.7501... Val Loss: 1.7231\n",
            "Epoch: 5/20... Step: 580... Loss: 1.7198... Val Loss: 1.7148\n",
            "Epoch: 5/20... Step: 590... Loss: 1.7104... Val Loss: 1.7052\n",
            "Epoch: 5/20... Step: 600... Loss: 1.7113... Val Loss: 1.6972\n",
            "Epoch: 5/20... Step: 610... Loss: 1.6975... Val Loss: 1.6977\n",
            "Epoch: 5/20... Step: 620... Loss: 1.7084... Val Loss: 1.6840\n",
            "Epoch: 5/20... Step: 630... Loss: 1.7185... Val Loss: 1.6815\n",
            "Epoch: 5/20... Step: 640... Loss: 1.6830... Val Loss: 1.6745\n",
            "Epoch: 5/20... Step: 650... Loss: 1.6742... Val Loss: 1.6660\n",
            "Epoch: 5/20... Step: 660... Loss: 1.6474... Val Loss: 1.6536\n",
            "Epoch: 5/20... Step: 670... Loss: 1.6775... Val Loss: 1.6518\n",
            "Epoch: 5/20... Step: 680... Loss: 1.6745... Val Loss: 1.6481\n",
            "Epoch: 5/20... Step: 690... Loss: 1.6505... Val Loss: 1.6400\n",
            "Epoch: 6/20... Step: 700... Loss: 1.6495... Val Loss: 1.6367\n",
            "Epoch: 6/20... Step: 710... Loss: 1.6401... Val Loss: 1.6264\n",
            "Epoch: 6/20... Step: 720... Loss: 1.6320... Val Loss: 1.6190\n",
            "Epoch: 6/20... Step: 730... Loss: 1.6409... Val Loss: 1.6142\n",
            "Epoch: 6/20... Step: 740... Loss: 1.6108... Val Loss: 1.6109\n",
            "Epoch: 6/20... Step: 750... Loss: 1.5899... Val Loss: 1.6077\n",
            "Epoch: 6/20... Step: 760... Loss: 1.6262... Val Loss: 1.6002\n",
            "Epoch: 6/20... Step: 770... Loss: 1.6147... Val Loss: 1.5955\n",
            "Epoch: 6/20... Step: 780... Loss: 1.5868... Val Loss: 1.5921\n",
            "Epoch: 6/20... Step: 790... Loss: 1.5845... Val Loss: 1.5877\n",
            "Epoch: 6/20... Step: 800... Loss: 1.5970... Val Loss: 1.5769\n",
            "Epoch: 6/20... Step: 810... Loss: 1.5892... Val Loss: 1.5758\n",
            "Epoch: 6/20... Step: 820... Loss: 1.5497... Val Loss: 1.5735\n",
            "Epoch: 6/20... Step: 830... Loss: 1.5892... Val Loss: 1.5661\n",
            "Epoch: 7/20... Step: 840... Loss: 1.5509... Val Loss: 1.5649\n",
            "Epoch: 7/20... Step: 850... Loss: 1.5643... Val Loss: 1.5595\n",
            "Epoch: 7/20... Step: 860... Loss: 1.5434... Val Loss: 1.5535\n",
            "Epoch: 7/20... Step: 870... Loss: 1.5535... Val Loss: 1.5484\n",
            "Epoch: 7/20... Step: 880... Loss: 1.5552... Val Loss: 1.5477\n",
            "Epoch: 7/20... Step: 890... Loss: 1.5524... Val Loss: 1.5449\n",
            "Epoch: 7/20... Step: 900... Loss: 1.5324... Val Loss: 1.5403\n",
            "Epoch: 7/20... Step: 910... Loss: 1.5054... Val Loss: 1.5376\n",
            "Epoch: 7/20... Step: 920... Loss: 1.5301... Val Loss: 1.5350\n",
            "Epoch: 7/20... Step: 930... Loss: 1.5101... Val Loss: 1.5260\n",
            "Epoch: 7/20... Step: 940... Loss: 1.5262... Val Loss: 1.5226\n",
            "Epoch: 7/20... Step: 950... Loss: 1.5368... Val Loss: 1.5195\n",
            "Epoch: 7/20... Step: 960... Loss: 1.5272... Val Loss: 1.5154\n",
            "Epoch: 7/20... Step: 970... Loss: 1.5317... Val Loss: 1.5120\n",
            "Epoch: 8/20... Step: 980... Loss: 1.5106... Val Loss: 1.5136\n",
            "Epoch: 8/20... Step: 990... Loss: 1.5048... Val Loss: 1.5069\n",
            "Epoch: 8/20... Step: 1000... Loss: 1.5086... Val Loss: 1.5049\n",
            "Epoch: 8/20... Step: 1010... Loss: 1.5410... Val Loss: 1.5003\n",
            "Epoch: 8/20... Step: 1020... Loss: 1.5177... Val Loss: 1.4972\n",
            "Epoch: 8/20... Step: 1030... Loss: 1.4857... Val Loss: 1.4941\n",
            "Epoch: 8/20... Step: 1040... Loss: 1.5029... Val Loss: 1.4974\n",
            "Epoch: 8/20... Step: 1050... Loss: 1.4790... Val Loss: 1.4925\n",
            "Epoch: 8/20... Step: 1060... Loss: 1.4838... Val Loss: 1.4880\n",
            "Epoch: 8/20... Step: 1070... Loss: 1.4900... Val Loss: 1.4820\n",
            "Epoch: 8/20... Step: 1080... Loss: 1.4878... Val Loss: 1.4816\n",
            "Epoch: 8/20... Step: 1090... Loss: 1.4723... Val Loss: 1.4751\n",
            "Epoch: 8/20... Step: 1100... Loss: 1.4504... Val Loss: 1.4741\n",
            "Epoch: 8/20... Step: 1110... Loss: 1.4556... Val Loss: 1.4701\n",
            "Epoch: 9/20... Step: 1120... Loss: 1.4807... Val Loss: 1.4740\n",
            "Epoch: 9/20... Step: 1130... Loss: 1.4754... Val Loss: 1.4714\n",
            "Epoch: 9/20... Step: 1140... Loss: 1.4700... Val Loss: 1.4637\n",
            "Epoch: 9/20... Step: 1150... Loss: 1.4891... Val Loss: 1.4619\n",
            "Epoch: 9/20... Step: 1160... Loss: 1.4400... Val Loss: 1.4589\n",
            "Epoch: 9/20... Step: 1170... Loss: 1.4590... Val Loss: 1.4573\n",
            "Epoch: 9/20... Step: 1180... Loss: 1.4371... Val Loss: 1.4572\n",
            "Epoch: 9/20... Step: 1190... Loss: 1.4819... Val Loss: 1.4573\n",
            "Epoch: 9/20... Step: 1200... Loss: 1.4276... Val Loss: 1.4485\n",
            "Epoch: 9/20... Step: 1210... Loss: 1.4403... Val Loss: 1.4476\n",
            "Epoch: 9/20... Step: 1220... Loss: 1.4442... Val Loss: 1.4469\n",
            "Epoch: 9/20... Step: 1230... Loss: 1.4221... Val Loss: 1.4416\n",
            "Epoch: 9/20... Step: 1240... Loss: 1.4288... Val Loss: 1.4402\n",
            "Epoch: 9/20... Step: 1250... Loss: 1.4379... Val Loss: 1.4359\n",
            "Epoch: 10/20... Step: 1260... Loss: 1.4367... Val Loss: 1.4383\n",
            "Epoch: 10/20... Step: 1270... Loss: 1.4364... Val Loss: 1.4378\n",
            "Epoch: 10/20... Step: 1280... Loss: 1.4436... Val Loss: 1.4325\n",
            "Epoch: 10/20... Step: 1290... Loss: 1.4361... Val Loss: 1.4330\n",
            "Epoch: 10/20... Step: 1300... Loss: 1.4193... Val Loss: 1.4287\n",
            "Epoch: 10/20... Step: 1310... Loss: 1.4308... Val Loss: 1.4265\n",
            "Epoch: 10/20... Step: 1320... Loss: 1.4032... Val Loss: 1.4269\n",
            "Epoch: 10/20... Step: 1330... Loss: 1.4090... Val Loss: 1.4298\n",
            "Epoch: 10/20... Step: 1340... Loss: 1.3890... Val Loss: 1.4227\n",
            "Epoch: 10/20... Step: 1350... Loss: 1.3804... Val Loss: 1.4182\n",
            "Epoch: 10/20... Step: 1360... Loss: 1.3861... Val Loss: 1.4185\n",
            "Epoch: 10/20... Step: 1370... Loss: 1.3803... Val Loss: 1.4155\n",
            "Epoch: 10/20... Step: 1380... Loss: 1.4176... Val Loss: 1.4138\n",
            "Epoch: 10/20... Step: 1390... Loss: 1.4242... Val Loss: 1.4125\n",
            "Epoch: 11/20... Step: 1400... Loss: 1.4326... Val Loss: 1.4090\n",
            "Epoch: 11/20... Step: 1410... Loss: 1.4380... Val Loss: 1.4122\n",
            "Epoch: 11/20... Step: 1420... Loss: 1.4336... Val Loss: 1.4029\n",
            "Epoch: 11/20... Step: 1430... Loss: 1.3907... Val Loss: 1.4075\n",
            "Epoch: 11/20... Step: 1440... Loss: 1.4186... Val Loss: 1.4035\n",
            "Epoch: 11/20... Step: 1450... Loss: 1.3494... Val Loss: 1.4079\n",
            "Epoch: 11/20... Step: 1460... Loss: 1.3726... Val Loss: 1.4003\n",
            "Epoch: 11/20... Step: 1470... Loss: 1.3584... Val Loss: 1.4035\n",
            "Epoch: 11/20... Step: 1480... Loss: 1.3975... Val Loss: 1.3973\n",
            "Epoch: 11/20... Step: 1490... Loss: 1.3705... Val Loss: 1.3984\n",
            "Epoch: 11/20... Step: 1500... Loss: 1.3646... Val Loss: 1.3995\n",
            "Epoch: 11/20... Step: 1510... Loss: 1.3407... Val Loss: 1.3949\n",
            "Epoch: 11/20... Step: 1520... Loss: 1.3850... Val Loss: 1.3946\n",
            "Epoch: 12/20... Step: 1530... Loss: 1.4294... Val Loss: 1.3900\n",
            "Epoch: 12/20... Step: 1540... Loss: 1.3856... Val Loss: 1.3909\n",
            "Epoch: 12/20... Step: 1550... Loss: 1.3890... Val Loss: 1.3897\n",
            "Epoch: 12/20... Step: 1560... Loss: 1.4024... Val Loss: 1.3849\n",
            "Epoch: 12/20... Step: 1570... Loss: 1.3608... Val Loss: 1.3886\n",
            "Epoch: 12/20... Step: 1580... Loss: 1.3303... Val Loss: 1.3887\n",
            "Epoch: 12/20... Step: 1590... Loss: 1.3268... Val Loss: 1.3872\n",
            "Epoch: 12/20... Step: 1600... Loss: 1.3495... Val Loss: 1.3830\n",
            "Epoch: 12/20... Step: 1610... Loss: 1.3447... Val Loss: 1.3859\n",
            "Epoch: 12/20... Step: 1620... Loss: 1.3434... Val Loss: 1.3793\n",
            "Epoch: 12/20... Step: 1630... Loss: 1.3702... Val Loss: 1.3804\n",
            "Epoch: 12/20... Step: 1640... Loss: 1.3435... Val Loss: 1.3807\n",
            "Epoch: 12/20... Step: 1650... Loss: 1.3331... Val Loss: 1.3778\n",
            "Epoch: 12/20... Step: 1660... Loss: 1.3774... Val Loss: 1.3766\n",
            "Epoch: 13/20... Step: 1670... Loss: 1.3365... Val Loss: 1.3724\n",
            "Epoch: 13/20... Step: 1680... Loss: 1.3489... Val Loss: 1.3713\n",
            "Epoch: 13/20... Step: 1690... Loss: 1.3373... Val Loss: 1.3775\n",
            "Epoch: 13/20... Step: 1700... Loss: 1.3390... Val Loss: 1.3716\n",
            "Epoch: 13/20... Step: 1710... Loss: 1.3141... Val Loss: 1.3693\n",
            "Epoch: 13/20... Step: 1720... Loss: 1.3298... Val Loss: 1.3695\n",
            "Epoch: 13/20... Step: 1730... Loss: 1.3637... Val Loss: 1.3726\n",
            "Epoch: 13/20... Step: 1740... Loss: 1.3326... Val Loss: 1.3686\n",
            "Epoch: 13/20... Step: 1750... Loss: 1.3021... Val Loss: 1.3714\n",
            "Epoch: 13/20... Step: 1760... Loss: 1.3159... Val Loss: 1.3702\n",
            "Epoch: 13/20... Step: 1770... Loss: 1.3528... Val Loss: 1.3653\n",
            "Epoch: 13/20... Step: 1780... Loss: 1.3209... Val Loss: 1.3643\n",
            "Epoch: 13/20... Step: 1790... Loss: 1.3076... Val Loss: 1.3621\n",
            "Epoch: 13/20... Step: 1800... Loss: 1.3311... Val Loss: 1.3600\n",
            "Epoch: 14/20... Step: 1810... Loss: 1.3310... Val Loss: 1.3630\n",
            "Epoch: 14/20... Step: 1820... Loss: 1.3202... Val Loss: 1.3560\n",
            "Epoch: 14/20... Step: 1830... Loss: 1.3437... Val Loss: 1.3591\n",
            "Epoch: 14/20... Step: 1840... Loss: 1.2856... Val Loss: 1.3567\n",
            "Epoch: 14/20... Step: 1850... Loss: 1.2715... Val Loss: 1.3563\n",
            "Epoch: 14/20... Step: 1860... Loss: 1.3264... Val Loss: 1.3592\n",
            "Epoch: 14/20... Step: 1870... Loss: 1.3433... Val Loss: 1.3585\n",
            "Epoch: 14/20... Step: 1880... Loss: 1.3349... Val Loss: 1.3547\n",
            "Epoch: 14/20... Step: 1890... Loss: 1.3373... Val Loss: 1.3591\n",
            "Epoch: 14/20... Step: 1900... Loss: 1.3172... Val Loss: 1.3522\n",
            "Epoch: 14/20... Step: 1910... Loss: 1.3239... Val Loss: 1.3528\n",
            "Epoch: 14/20... Step: 1920... Loss: 1.3089... Val Loss: 1.3517\n",
            "Epoch: 14/20... Step: 1930... Loss: 1.2838... Val Loss: 1.3505\n",
            "Epoch: 14/20... Step: 1940... Loss: 1.3331... Val Loss: 1.3489\n",
            "Epoch: 15/20... Step: 1950... Loss: 1.3041... Val Loss: 1.3559\n",
            "Epoch: 15/20... Step: 1960... Loss: 1.3071... Val Loss: 1.3490\n",
            "Epoch: 15/20... Step: 1970... Loss: 1.2977... Val Loss: 1.3464\n",
            "Epoch: 15/20... Step: 1980... Loss: 1.2898... Val Loss: 1.3462\n",
            "Epoch: 15/20... Step: 1990... Loss: 1.2897... Val Loss: 1.3464\n",
            "Epoch: 15/20... Step: 2000... Loss: 1.2823... Val Loss: 1.3478\n",
            "Epoch: 15/20... Step: 2010... Loss: 1.2999... Val Loss: 1.3462\n",
            "Epoch: 15/20... Step: 2020... Loss: 1.3245... Val Loss: 1.3432\n",
            "Epoch: 15/20... Step: 2030... Loss: 1.2822... Val Loss: 1.3455\n",
            "Epoch: 15/20... Step: 2040... Loss: 1.2938... Val Loss: 1.3380\n",
            "Epoch: 15/20... Step: 2050... Loss: 1.2860... Val Loss: 1.3399\n",
            "Epoch: 15/20... Step: 2060... Loss: 1.2932... Val Loss: 1.3389\n",
            "Epoch: 15/20... Step: 2070... Loss: 1.2987... Val Loss: 1.3378\n",
            "Epoch: 15/20... Step: 2080... Loss: 1.2967... Val Loss: 1.3403\n",
            "Epoch: 16/20... Step: 2090... Loss: 1.3078... Val Loss: 1.3364\n",
            "Epoch: 16/20... Step: 2100... Loss: 1.2885... Val Loss: 1.3376\n",
            "Epoch: 16/20... Step: 2110... Loss: 1.2815... Val Loss: 1.3352\n",
            "Epoch: 16/20... Step: 2120... Loss: 1.2898... Val Loss: 1.3350\n",
            "Epoch: 16/20... Step: 2130... Loss: 1.2579... Val Loss: 1.3373\n",
            "Epoch: 16/20... Step: 2140... Loss: 1.2791... Val Loss: 1.3365\n",
            "Epoch: 16/20... Step: 2150... Loss: 1.2983... Val Loss: 1.3347\n",
            "Epoch: 16/20... Step: 2160... Loss: 1.2729... Val Loss: 1.3323\n",
            "Epoch: 16/20... Step: 2170... Loss: 1.2826... Val Loss: 1.3332\n",
            "Epoch: 16/20... Step: 2180... Loss: 1.2727... Val Loss: 1.3298\n",
            "Epoch: 16/20... Step: 2190... Loss: 1.3002... Val Loss: 1.3292\n",
            "Epoch: 16/20... Step: 2200... Loss: 1.2775... Val Loss: 1.3282\n",
            "Epoch: 16/20... Step: 2210... Loss: 1.2388... Val Loss: 1.3262\n",
            "Epoch: 16/20... Step: 2220... Loss: 1.2904... Val Loss: 1.3281\n",
            "Epoch: 17/20... Step: 2230... Loss: 1.2568... Val Loss: 1.3284\n",
            "Epoch: 17/20... Step: 2240... Loss: 1.2754... Val Loss: 1.3245\n",
            "Epoch: 17/20... Step: 2250... Loss: 1.2555... Val Loss: 1.3240\n",
            "Epoch: 17/20... Step: 2260... Loss: 1.2622... Val Loss: 1.3246\n",
            "Epoch: 17/20... Step: 2270... Loss: 1.2789... Val Loss: 1.3252\n",
            "Epoch: 17/20... Step: 2280... Loss: 1.2772... Val Loss: 1.3217\n",
            "Epoch: 17/20... Step: 2290... Loss: 1.2747... Val Loss: 1.3229\n",
            "Epoch: 17/20... Step: 2300... Loss: 1.2393... Val Loss: 1.3218\n",
            "Epoch: 17/20... Step: 2310... Loss: 1.2644... Val Loss: 1.3234\n",
            "Epoch: 17/20... Step: 2320... Loss: 1.2508... Val Loss: 1.3217\n",
            "Epoch: 17/20... Step: 2330... Loss: 1.2548... Val Loss: 1.3217\n",
            "Epoch: 17/20... Step: 2340... Loss: 1.2686... Val Loss: 1.3208\n",
            "Epoch: 17/20... Step: 2350... Loss: 1.2790... Val Loss: 1.3207\n",
            "Epoch: 17/20... Step: 2360... Loss: 1.2745... Val Loss: 1.3211\n",
            "Epoch: 18/20... Step: 2370... Loss: 1.2497... Val Loss: 1.3195\n",
            "Epoch: 18/20... Step: 2380... Loss: 1.2561... Val Loss: 1.3158\n",
            "Epoch: 18/20... Step: 2390... Loss: 1.2548... Val Loss: 1.3181\n",
            "Epoch: 18/20... Step: 2400... Loss: 1.2827... Val Loss: 1.3180\n",
            "Epoch: 18/20... Step: 2410... Loss: 1.2777... Val Loss: 1.3186\n",
            "Epoch: 18/20... Step: 2420... Loss: 1.2618... Val Loss: 1.3173\n",
            "Epoch: 18/20... Step: 2430... Loss: 1.2700... Val Loss: 1.3166\n",
            "Epoch: 18/20... Step: 2440... Loss: 1.2463... Val Loss: 1.3164\n",
            "Epoch: 18/20... Step: 2450... Loss: 1.2459... Val Loss: 1.3161\n",
            "Epoch: 18/20... Step: 2460... Loss: 1.2629... Val Loss: 1.3144\n",
            "Epoch: 18/20... Step: 2470... Loss: 1.2586... Val Loss: 1.3140\n",
            "Epoch: 18/20... Step: 2480... Loss: 1.2403... Val Loss: 1.3141\n",
            "Epoch: 18/20... Step: 2490... Loss: 1.2317... Val Loss: 1.3138\n",
            "Epoch: 18/20... Step: 2500... Loss: 1.2339... Val Loss: 1.3124\n",
            "Epoch: 19/20... Step: 2510... Loss: 1.2452... Val Loss: 1.3120\n",
            "Epoch: 19/20... Step: 2520... Loss: 1.2572... Val Loss: 1.3133\n",
            "Epoch: 19/20... Step: 2530... Loss: 1.2564... Val Loss: 1.3085\n",
            "Epoch: 19/20... Step: 2540... Loss: 1.2770... Val Loss: 1.3113\n",
            "Epoch: 19/20... Step: 2550... Loss: 1.2335... Val Loss: 1.3114\n",
            "Epoch: 19/20... Step: 2560... Loss: 1.2491... Val Loss: 1.3079\n",
            "Epoch: 19/20... Step: 2570... Loss: 1.2298... Val Loss: 1.3109\n",
            "Epoch: 19/20... Step: 2580... Loss: 1.2731... Val Loss: 1.3085\n",
            "Epoch: 19/20... Step: 2590... Loss: 1.2263... Val Loss: 1.3073\n",
            "Epoch: 19/20... Step: 2600... Loss: 1.2293... Val Loss: 1.3074\n",
            "Epoch: 19/20... Step: 2610... Loss: 1.2332... Val Loss: 1.3066\n",
            "Epoch: 19/20... Step: 2620... Loss: 1.2231... Val Loss: 1.3091\n",
            "Epoch: 19/20... Step: 2630... Loss: 1.2245... Val Loss: 1.3064\n",
            "Epoch: 19/20... Step: 2640... Loss: 1.2454... Val Loss: 1.3029\n",
            "Epoch: 20/20... Step: 2650... Loss: 1.2388... Val Loss: 1.3007\n",
            "Epoch: 20/20... Step: 2660... Loss: 1.2513... Val Loss: 1.3073\n",
            "Epoch: 20/20... Step: 2670... Loss: 1.2612... Val Loss: 1.3026\n",
            "Epoch: 20/20... Step: 2680... Loss: 1.2403... Val Loss: 1.3015\n",
            "Epoch: 20/20... Step: 2690... Loss: 1.2346... Val Loss: 1.3067\n",
            "Epoch: 20/20... Step: 2700... Loss: 1.2391... Val Loss: 1.3023\n",
            "Epoch: 20/20... Step: 2710... Loss: 1.2154... Val Loss: 1.3035\n",
            "Epoch: 20/20... Step: 2720... Loss: 1.2142... Val Loss: 1.3038\n",
            "Epoch: 20/20... Step: 2730... Loss: 1.2082... Val Loss: 1.3028\n",
            "Epoch: 20/20... Step: 2740... Loss: 1.2148... Val Loss: 1.3038\n",
            "Epoch: 20/20... Step: 2750... Loss: 1.2164... Val Loss: 1.3047\n",
            "Epoch: 20/20... Step: 2760... Loss: 1.2095... Val Loss: 1.3009\n",
            "Epoch: 20/20... Step: 2770... Loss: 1.2419... Val Loss: 1.3009\n",
            "Epoch: 20/20... Step: 2780... Loss: 1.2724... Val Loss: 1.2965\n"
          ],
          "name": "stdout"
        }
      ]
    },
    {
      "cell_type": "markdown",
      "metadata": {
        "id": "N88gzF0Rao21",
        "colab_type": "text"
      },
      "source": [
        "## Getting the best model\n",
        "\n",
        "To set your hyperparameters to get the best performance, you'll want to watch the training and validation losses. If your training loss is much lower than the validation loss, you're overfitting. Increase regularization (more dropout) or use a smaller network. If the training and validation losses are close, you're underfitting so you can increase the size of the network."
      ]
    },
    {
      "cell_type": "markdown",
      "metadata": {
        "id": "0Li0fOQMao22",
        "colab_type": "text"
      },
      "source": [
        "## Hyperparameters\n",
        "\n",
        "Here are the hyperparameters for the network.\n",
        "\n",
        "In defining the model:\n",
        "* `n_hidden` - The number of units in the hidden layers.\n",
        "* `n_layers` - Number of hidden LSTM layers to use.\n",
        "\n",
        "We assume that dropout probability and learning rate will be kept at the default, in this example.\n",
        "\n",
        "And in training:\n",
        "* `batch_size` - Number of sequences running through the network in one pass.\n",
        "* `seq_length` - Number of characters in the sequence the network is trained on. Larger is better typically, the network will learn more long range dependencies. But it takes longer to train. 100 is typically a good number here.\n",
        "* `lr` - Learning rate for training\n",
        "\n",
        "Here's some good advice from Andrej Karpathy on training the network. I'm going to copy it in here for your benefit, but also link to [where it originally came from](https://github.com/karpathy/char-rnn#tips-and-tricks).\n",
        "\n",
        "> ## Tips and Tricks\n",
        "\n",
        ">### Monitoring Validation Loss vs. Training Loss\n",
        ">If you're somewhat new to Machine Learning or Neural Networks it can take a bit of expertise to get good models. The most important quantity to keep track of is the difference between your training loss (printed during training) and the validation loss (printed once in a while when the RNN is run on the validation data (by default every 1000 iterations)). In particular:\n",
        "\n",
        "> - If your training loss is much lower than validation loss then this means the network might be **overfitting**. Solutions to this are to decrease your network size, or to increase dropout. For example you could try dropout of 0.5 and so on.\n",
        "> - If your training/validation loss are about equal then your model is **underfitting**. Increase the size of your model (either number of layers or the raw number of neurons per layer)\n",
        "\n",
        "> ### Approximate number of parameters\n",
        "\n",
        "> The two most important parameters that control the model are `n_hidden` and `n_layers`. I would advise that you always use `n_layers` of either 2/3. The `n_hidden` can be adjusted based on how much data you have. The two important quantities to keep track of here are:\n",
        "\n",
        "> - The number of parameters in your model. This is printed when you start training.\n",
        "> - The size of your dataset. 1MB file is approximately 1 million characters.\n",
        "\n",
        ">These two should be about the same order of magnitude. It's a little tricky to tell. Here are some examples:\n",
        "\n",
        "> - I have a 100MB dataset and I'm using the default parameter settings (which currently print 150K parameters). My data size is significantly larger (100 mil >> 0.15 mil), so I expect to heavily underfit. I am thinking I can comfortably afford to make `n_hidden` larger.\n",
        "> - I have a 10MB dataset and running a 10 million parameter model. I'm slightly nervous and I'm carefully monitoring my validation loss. If it's larger than my training loss then I may want to try to increase dropout a bit and see if that helps the validation loss.\n",
        "\n",
        "> ### Best models strategy\n",
        "\n",
        ">The winning strategy to obtaining very good models (if you have the compute time) is to always err on making the network larger (as large as you're willing to wait for it to compute) and then try different dropout values (between 0,1). Whatever model has the best validation performance (the loss, written in the checkpoint filename, low is good) is the one you should use in the end.\n",
        "\n",
        ">It is very common in deep learning to run many different models with many different hyperparameter settings, and in the end take whatever checkpoint gave the best validation performance.\n",
        "\n",
        ">By the way, the size of your training and validation splits are also parameters. Make sure you have a decent amount of data in your validation set or otherwise the validation performance will be noisy and not very informative."
      ]
    },
    {
      "cell_type": "markdown",
      "metadata": {
        "id": "fUMJi8EAao22",
        "colab_type": "text"
      },
      "source": [
        "## Checkpoint\n",
        "\n",
        "After training, we'll save the model so we can load it again later if we need too. Here I'm saving the parameters needed to create the same architecture, the hidden layer hyperparameters and the text characters."
      ]
    },
    {
      "cell_type": "code",
      "metadata": {
        "id": "z3cHmPY_ao23",
        "colab_type": "code",
        "colab": {}
      },
      "source": [
        "# change the name, for saving multiple files\n",
        "model_name = 'rnn_x_epoch.net'\n",
        "\n",
        "checkpoint = {'n_hidden': net.n_hidden,\n",
        "              'n_layers': net.n_layers,\n",
        "              'state_dict': net.state_dict(),\n",
        "              'tokens': net.chars}\n",
        "\n",
        "with open(model_name, 'wb') as f:\n",
        "    torch.save(checkpoint, f)"
      ],
      "execution_count": 0,
      "outputs": []
    },
    {
      "cell_type": "markdown",
      "metadata": {
        "id": "gYwLOkzuao25",
        "colab_type": "text"
      },
      "source": [
        "---\n",
        "## Making Predictions\n",
        "\n",
        "Now that the model is trained, we'll want to sample from it and make predictions about next characters! To sample, we pass in a character and have the network predict the next character. Then we take that character, pass it back in, and get another predicted character. Just keep doing this and you'll generate a bunch of text!\n",
        "\n",
        "### A note on the `predict`  function\n",
        "\n",
        "The output of our RNN is from a fully-connected layer and it outputs a **distribution of next-character scores**.\n",
        "\n",
        "> To actually get the next character, we apply a softmax function, which gives us a *probability* distribution that we can then sample to predict the next character.\n",
        "\n",
        "### Top K sampling\n",
        "\n",
        "Our predictions come from a categorical probability distribution over all the possible characters. We can make the sample text and make it more reasonable to handle (with less variables) by only considering some $K$ most probable characters. This will prevent the network from giving us completely absurd characters while allowing it to introduce some noise and randomness into the sampled text. Read more about [topk, here](https://pytorch.org/docs/stable/torch.html#torch.topk).\n"
      ]
    },
    {
      "cell_type": "code",
      "metadata": {
        "id": "6I6LPrWuao25",
        "colab_type": "code",
        "colab": {}
      },
      "source": [
        "def predict(net, char, h=None, top_k=None):\n",
        "        ''' Given a character, predict the next character.\n",
        "            Returns the predicted character and the hidden state.\n",
        "        '''\n",
        "        \n",
        "        # tensor inputs\n",
        "        x = np.array([[net.char2int[char]]])\n",
        "        x = one_hot_encode(x, len(net.chars))\n",
        "        inputs = torch.from_numpy(x)\n",
        "        \n",
        "        if(train_on_gpu):\n",
        "            inputs = inputs.cuda()\n",
        "        \n",
        "        # detach hidden state from history\n",
        "        h = tuple([each.data for each in h])\n",
        "        # get the output of the model\n",
        "        out, h = net(inputs, h)\n",
        "\n",
        "        # get the character probabilities\n",
        "        p = F.softmax(out, dim=1).data\n",
        "        if(train_on_gpu):\n",
        "            p = p.cpu() # move to cpu\n",
        "        \n",
        "        # get top characters\n",
        "        if top_k is None:\n",
        "            top_ch = np.arange(len(net.chars))\n",
        "        else:\n",
        "            p, top_ch = p.topk(top_k)\n",
        "            top_ch = top_ch.numpy().squeeze()\n",
        "        \n",
        "        # select the likely next character with some element of randomness\n",
        "        p = p.numpy().squeeze()\n",
        "        char = np.random.choice(top_ch, p=p/p.sum())\n",
        "        \n",
        "        # return the encoded value of the predicted char and the hidden state\n",
        "        return net.int2char[char], h"
      ],
      "execution_count": 0,
      "outputs": []
    },
    {
      "cell_type": "markdown",
      "metadata": {
        "id": "_8GdGdskao28",
        "colab_type": "text"
      },
      "source": [
        "### Priming and generating text \n",
        "\n",
        "Typically you'll want to prime the network so you can build up a hidden state. Otherwise the network will start out generating characters at random. In general the first bunch of characters will be a little rough since it hasn't built up a long history of characters to predict from."
      ]
    },
    {
      "cell_type": "code",
      "metadata": {
        "id": "5AinRC9Aao28",
        "colab_type": "code",
        "colab": {}
      },
      "source": [
        "def sample(net, size, prime='The', top_k=None):\n",
        "        \n",
        "    if(train_on_gpu):\n",
        "        net.cuda()\n",
        "    else:\n",
        "        net.cpu()\n",
        "    \n",
        "    net.eval() # eval mode\n",
        "    \n",
        "    # First off, run through the prime characters\n",
        "    chars = [ch for ch in prime]\n",
        "    h = net.init_hidden(1)\n",
        "    for ch in prime:\n",
        "        char, h = predict(net, ch, h, top_k=top_k)\n",
        "\n",
        "    chars.append(char)\n",
        "    \n",
        "    # Now pass in the previous character and get a new one\n",
        "    for ii in range(size):\n",
        "        char, h = predict(net, chars[-1], h, top_k=top_k)\n",
        "        chars.append(char)\n",
        "\n",
        "    return ''.join(chars)"
      ],
      "execution_count": 0,
      "outputs": []
    },
    {
      "cell_type": "code",
      "metadata": {
        "id": "b3m_b4pDao2-",
        "colab_type": "code",
        "colab": {
          "base_uri": "https://localhost:8080/",
          "height": 445
        },
        "outputId": "bcb4b63c-86c9-4878-b259-07e26bf0f4e0"
      },
      "source": [
        "print(sample(net, 1000, prime='Anna', top_k=5))"
      ],
      "execution_count": 30,
      "outputs": [
        {
          "output_type": "stream",
          "text": [
            "Anna sounded in all this whore to such a sees in a smile, and he\n",
            "did not know it all the same and ton tenderness of the farther of all that were the cherk on her. He had settled his finser of tenderness. She was a ground and\n",
            "hearings, would have asked her heart in his\n",
            "soul,\n",
            "as though the simple of the second of the sorry\n",
            "fixed were sincing his\n",
            "she could not be stoping at the theer was the same acton was at the secretary friends of the princess, that he was not talking of him, and so as to speak with having\n",
            "suppersed to a last several men workel. But it\n",
            "was the that she was the princess, and he saw that he could not line to\n",
            "them.\n",
            "\n",
            "This stoping words was not the\n",
            "complete princess's fine house. The day as\n",
            "the most strice, at a child that she could never help to be said, which as his feet in\n",
            "a prances of the cantress to an one wait,\n",
            "and he was silent as they had not answer, and he saw her.\n",
            "\n",
            "\"And I haven't specielly shall me to see it?\"\n",
            "\n",
            "\"What is as though I\n",
            "can do to him?\"\n",
            "\n",
            "She was trying to\n",
            "cu\n"
          ],
          "name": "stdout"
        }
      ]
    },
    {
      "cell_type": "markdown",
      "metadata": {
        "id": "XhqFr3cVao3A",
        "colab_type": "text"
      },
      "source": [
        "## Loading a checkpoint"
      ]
    },
    {
      "cell_type": "code",
      "metadata": {
        "id": "Ov2gcEbMao3A",
        "colab_type": "code",
        "colab": {
          "base_uri": "https://localhost:8080/",
          "height": 34
        },
        "outputId": "46d81a78-f4a6-4971-876a-0eaba6da9001"
      },
      "source": [
        "# Here we have loaded in a model that trained over 20 epochs `rnn_20_epoch.net`\n",
        "with open('rnn_x_epoch.net', 'rb') as f:\n",
        "    checkpoint = torch.load(f)\n",
        "    \n",
        "loaded = CharRNN(checkpoint['tokens'], n_hidden=checkpoint['n_hidden'], n_layers=checkpoint['n_layers'])\n",
        "loaded.load_state_dict(checkpoint['state_dict'])"
      ],
      "execution_count": 31,
      "outputs": [
        {
          "output_type": "execute_result",
          "data": {
            "text/plain": [
              "<All keys matched successfully>"
            ]
          },
          "metadata": {
            "tags": []
          },
          "execution_count": 31
        }
      ]
    },
    {
      "cell_type": "code",
      "metadata": {
        "id": "954IgX_Eao3C",
        "colab_type": "code",
        "colab": {
          "base_uri": "https://localhost:8080/",
          "height": 632
        },
        "outputId": "bc2a3a21-f368-4db4-a755-c1e38a9cc964"
      },
      "source": [
        "# Sample using a loaded model\n",
        "print(sample(loaded, 2000, top_k=5, prime=\"And Levin said\"))"
      ],
      "execution_count": 32,
      "outputs": [
        {
          "output_type": "stream",
          "text": [
            "And Levin said\n",
            "in his feelings or\n",
            "horses to see the better way trying to say. The distinction of his\n",
            "face there had before a careless with the commissical of her fast on the country, and\n",
            "his head\n",
            "he had started to\n",
            "tolate to\n",
            "set him. This seemed of an\n",
            "engagement all the conversation\n",
            "with his book.\n",
            "\n",
            "\"Yes, yes, you mean who say?..\"\n",
            "\n",
            "To her sincerelle he could never have almers had always been day from her. They cold his state of the matters of the same significance of his ears. Stremov and Vronsky, so whom the position of the solemor of the princess was some familiar times and the same sight\n",
            "of the mushruobsed humiliated foreses.\n",
            "\n",
            "\"Well, they did not see? And why is there are thought. Well, when I was to come in the cease is suddenly.\"\n",
            "\n",
            "He took her\n",
            "his best. There was not on the taste. The corridor were struck\n",
            "as he went away there were not at that faith of it. The consciousness to be a mother, which he had seen in serious simple things. There was a long, but the same position of a peace when they was doing a strange of the peasants that they had all her easers was ask him in himself, was in the conversaition, and they had through the ball who had not came for the minutes, with the still and surprise and fell of an angems and\n",
            "the same to meet him in this. Stepan Arkadyevitch, has fancied, he went out off them.\n",
            "\n",
            "\"Well, then I say the concent that here are some time to me.\"\n",
            "\n",
            "He had standing at a fool thought, to speak as though as she heard the samaly\n",
            "adviced sorrow he saw this at her and train to her take on to the steed in what herself had through three\n",
            "strong with the princess.\n",
            "\n",
            "\"I don't come off, I'll be the straight in the coats. All the solemen so a fine\n",
            "of myself and merely wonkers the paris of horror with her.\"\n",
            "\n",
            "\"What a singing? Well, he's going to be mere at the same\n",
            "possibition to such an offer on him as he had the chain things of the service. He saw it. It's taken it. What do you were saying that,\" she thought, and saw that they was discanged at\n",
            "the peasant who was a conscio\n"
          ],
          "name": "stdout"
        }
      ]
    },
    {
      "cell_type": "code",
      "metadata": {
        "id": "dQfeayfOao3E",
        "colab_type": "code",
        "colab": {
          "resources": {
            "http://localhost:8080/nbextensions/google.colab/files.js": {
              "data": "Ly8gQ29weXJpZ2h0IDIwMTcgR29vZ2xlIExMQwovLwovLyBMaWNlbnNlZCB1bmRlciB0aGUgQXBhY2hlIExpY2Vuc2UsIFZlcnNpb24gMi4wICh0aGUgIkxpY2Vuc2UiKTsKLy8geW91IG1heSBub3QgdXNlIHRoaXMgZmlsZSBleGNlcHQgaW4gY29tcGxpYW5jZSB3aXRoIHRoZSBMaWNlbnNlLgovLyBZb3UgbWF5IG9idGFpbiBhIGNvcHkgb2YgdGhlIExpY2Vuc2UgYXQKLy8KLy8gICAgICBodHRwOi8vd3d3LmFwYWNoZS5vcmcvbGljZW5zZXMvTElDRU5TRS0yLjAKLy8KLy8gVW5sZXNzIHJlcXVpcmVkIGJ5IGFwcGxpY2FibGUgbGF3IG9yIGFncmVlZCB0byBpbiB3cml0aW5nLCBzb2Z0d2FyZQovLyBkaXN0cmlidXRlZCB1bmRlciB0aGUgTGljZW5zZSBpcyBkaXN0cmlidXRlZCBvbiBhbiAiQVMgSVMiIEJBU0lTLAovLyBXSVRIT1VUIFdBUlJBTlRJRVMgT1IgQ09ORElUSU9OUyBPRiBBTlkgS0lORCwgZWl0aGVyIGV4cHJlc3Mgb3IgaW1wbGllZC4KLy8gU2VlIHRoZSBMaWNlbnNlIGZvciB0aGUgc3BlY2lmaWMgbGFuZ3VhZ2UgZ292ZXJuaW5nIHBlcm1pc3Npb25zIGFuZAovLyBsaW1pdGF0aW9ucyB1bmRlciB0aGUgTGljZW5zZS4KCi8qKgogKiBAZmlsZW92ZXJ2aWV3IEhlbHBlcnMgZm9yIGdvb2dsZS5jb2xhYiBQeXRob24gbW9kdWxlLgogKi8KKGZ1bmN0aW9uKHNjb3BlKSB7CmZ1bmN0aW9uIHNwYW4odGV4dCwgc3R5bGVBdHRyaWJ1dGVzID0ge30pIHsKICBjb25zdCBlbGVtZW50ID0gZG9jdW1lbnQuY3JlYXRlRWxlbWVudCgnc3BhbicpOwogIGVsZW1lbnQudGV4dENvbnRlbnQgPSB0ZXh0OwogIGZvciAoY29uc3Qga2V5IG9mIE9iamVjdC5rZXlzKHN0eWxlQXR0cmlidXRlcykpIHsKICAgIGVsZW1lbnQuc3R5bGVba2V5XSA9IHN0eWxlQXR0cmlidXRlc1trZXldOwogIH0KICByZXR1cm4gZWxlbWVudDsKfQoKLy8gTWF4IG51bWJlciBvZiBieXRlcyB3aGljaCB3aWxsIGJlIHVwbG9hZGVkIGF0IGEgdGltZS4KY29uc3QgTUFYX1BBWUxPQURfU0laRSA9IDEwMCAqIDEwMjQ7Ci8vIE1heCBhbW91bnQgb2YgdGltZSB0byBibG9jayB3YWl0aW5nIGZvciB0aGUgdXNlci4KY29uc3QgRklMRV9DSEFOR0VfVElNRU9VVF9NUyA9IDMwICogMTAwMDsKCmZ1bmN0aW9uIF91cGxvYWRGaWxlcyhpbnB1dElkLCBvdXRwdXRJZCkgewogIGNvbnN0IHN0ZXBzID0gdXBsb2FkRmlsZXNTdGVwKGlucHV0SWQsIG91dHB1dElkKTsKICBjb25zdCBvdXRwdXRFbGVtZW50ID0gZG9jdW1lbnQuZ2V0RWxlbWVudEJ5SWQob3V0cHV0SWQpOwogIC8vIENhY2hlIHN0ZXBzIG9uIHRoZSBvdXRwdXRFbGVtZW50IHRvIG1ha2UgaXQgYXZhaWxhYmxlIGZvciB0aGUgbmV4dCBjYWxsCiAgLy8gdG8gdXBsb2FkRmlsZXNDb250aW51ZSBmcm9tIFB5dGhvbi4KICBvdXRwdXRFbGVtZW50LnN0ZXBzID0gc3RlcHM7CgogIHJldHVybiBfdXBsb2FkRmlsZXNDb250aW51ZShvdXRwdXRJZCk7Cn0KCi8vIFRoaXMgaXMgcm91Z2hseSBhbiBhc3luYyBnZW5lcmF0b3IgKG5vdCBzdXBwb3J0ZWQgaW4gdGhlIGJyb3dzZXIgeWV0KSwKLy8gd2hlcmUgdGhlcmUgYXJlIG11bHRpcGxlIGFzeW5jaHJvbm91cyBzdGVwcyBhbmQgdGhlIFB5dGhvbiBzaWRlIGlzIGdvaW5nCi8vIHRvIHBvbGwgZm9yIGNvbXBsZXRpb24gb2YgZWFjaCBzdGVwLgovLyBUaGlzIHVzZXMgYSBQcm9taXNlIHRvIGJsb2NrIHRoZSBweXRob24gc2lkZSBvbiBjb21wbGV0aW9uIG9mIGVhY2ggc3RlcCwKLy8gdGhlbiBwYXNzZXMgdGhlIHJlc3VsdCBvZiB0aGUgcHJldmlvdXMgc3RlcCBhcyB0aGUgaW5wdXQgdG8gdGhlIG5leHQgc3RlcC4KZnVuY3Rpb24gX3VwbG9hZEZpbGVzQ29udGludWUob3V0cHV0SWQpIHsKICBjb25zdCBvdXRwdXRFbGVtZW50ID0gZG9jdW1lbnQuZ2V0RWxlbWVudEJ5SWQob3V0cHV0SWQpOwogIGNvbnN0IHN0ZXBzID0gb3V0cHV0RWxlbWVudC5zdGVwczsKCiAgY29uc3QgbmV4dCA9IHN0ZXBzLm5leHQob3V0cHV0RWxlbWVudC5sYXN0UHJvbWlzZVZhbHVlKTsKICByZXR1cm4gUHJvbWlzZS5yZXNvbHZlKG5leHQudmFsdWUucHJvbWlzZSkudGhlbigodmFsdWUpID0+IHsKICAgIC8vIENhY2hlIHRoZSBsYXN0IHByb21pc2UgdmFsdWUgdG8gbWFrZSBpdCBhdmFpbGFibGUgdG8gdGhlIG5leHQKICAgIC8vIHN0ZXAgb2YgdGhlIGdlbmVyYXRvci4KICAgIG91dHB1dEVsZW1lbnQubGFzdFByb21pc2VWYWx1ZSA9IHZhbHVlOwogICAgcmV0dXJuIG5leHQudmFsdWUucmVzcG9uc2U7CiAgfSk7Cn0KCi8qKgogKiBHZW5lcmF0b3IgZnVuY3Rpb24gd2hpY2ggaXMgY2FsbGVkIGJldHdlZW4gZWFjaCBhc3luYyBzdGVwIG9mIHRoZSB1cGxvYWQKICogcHJvY2Vzcy4KICogQHBhcmFtIHtzdHJpbmd9IGlucHV0SWQgRWxlbWVudCBJRCBvZiB0aGUgaW5wdXQgZmlsZSBwaWNrZXIgZWxlbWVudC4KICogQHBhcmFtIHtzdHJpbmd9IG91dHB1dElkIEVsZW1lbnQgSUQgb2YgdGhlIG91dHB1dCBkaXNwbGF5LgogKiBAcmV0dXJuIHshSXRlcmFibGU8IU9iamVjdD59IEl0ZXJhYmxlIG9mIG5leHQgc3RlcHMuCiAqLwpmdW5jdGlvbiogdXBsb2FkRmlsZXNTdGVwKGlucHV0SWQsIG91dHB1dElkKSB7CiAgY29uc3QgaW5wdXRFbGVtZW50ID0gZG9jdW1lbnQuZ2V0RWxlbWVudEJ5SWQoaW5wdXRJZCk7CiAgaW5wdXRFbGVtZW50LmRpc2FibGVkID0gZmFsc2U7CgogIGNvbnN0IG91dHB1dEVsZW1lbnQgPSBkb2N1bWVudC5nZXRFbGVtZW50QnlJZChvdXRwdXRJZCk7CiAgb3V0cHV0RWxlbWVudC5pbm5lckhUTUwgPSAnJzsKCiAgY29uc3QgcGlja2VkUHJvbWlzZSA9IG5ldyBQcm9taXNlKChyZXNvbHZlKSA9PiB7CiAgICBpbnB1dEVsZW1lbnQuYWRkRXZlbnRMaXN0ZW5lcignY2hhbmdlJywgKGUpID0+IHsKICAgICAgcmVzb2x2ZShlLnRhcmdldC5maWxlcyk7CiAgICB9KTsKICB9KTsKCiAgY29uc3QgY2FuY2VsID0gZG9jdW1lbnQuY3JlYXRlRWxlbWVudCgnYnV0dG9uJyk7CiAgaW5wdXRFbGVtZW50LnBhcmVudEVsZW1lbnQuYXBwZW5kQ2hpbGQoY2FuY2VsKTsKICBjYW5jZWwudGV4dENvbnRlbnQgPSAnQ2FuY2VsIHVwbG9hZCc7CiAgY29uc3QgY2FuY2VsUHJvbWlzZSA9IG5ldyBQcm9taXNlKChyZXNvbHZlKSA9PiB7CiAgICBjYW5jZWwub25jbGljayA9ICgpID0+IHsKICAgICAgcmVzb2x2ZShudWxsKTsKICAgIH07CiAgfSk7CgogIC8vIENhbmNlbCB1cGxvYWQgaWYgdXNlciBoYXNuJ3QgcGlja2VkIGFueXRoaW5nIGluIHRpbWVvdXQuCiAgY29uc3QgdGltZW91dFByb21pc2UgPSBuZXcgUHJvbWlzZSgocmVzb2x2ZSkgPT4gewogICAgc2V0VGltZW91dCgoKSA9PiB7CiAgICAgIHJlc29sdmUobnVsbCk7CiAgICB9LCBGSUxFX0NIQU5HRV9USU1FT1VUX01TKTsKICB9KTsKCiAgLy8gV2FpdCBmb3IgdGhlIHVzZXIgdG8gcGljayB0aGUgZmlsZXMuCiAgY29uc3QgZmlsZXMgPSB5aWVsZCB7CiAgICBwcm9taXNlOiBQcm9taXNlLnJhY2UoW3BpY2tlZFByb21pc2UsIHRpbWVvdXRQcm9taXNlLCBjYW5jZWxQcm9taXNlXSksCiAgICByZXNwb25zZTogewogICAgICBhY3Rpb246ICdzdGFydGluZycsCiAgICB9CiAgfTsKCiAgaWYgKCFmaWxlcykgewogICAgcmV0dXJuIHsKICAgICAgcmVzcG9uc2U6IHsKICAgICAgICBhY3Rpb246ICdjb21wbGV0ZScsCiAgICAgIH0KICAgIH07CiAgfQoKICBjYW5jZWwucmVtb3ZlKCk7CgogIC8vIERpc2FibGUgdGhlIGlucHV0IGVsZW1lbnQgc2luY2UgZnVydGhlciBwaWNrcyBhcmUgbm90IGFsbG93ZWQuCiAgaW5wdXRFbGVtZW50LmRpc2FibGVkID0gdHJ1ZTsKCiAgZm9yIChjb25zdCBmaWxlIG9mIGZpbGVzKSB7CiAgICBjb25zdCBsaSA9IGRvY3VtZW50LmNyZWF0ZUVsZW1lbnQoJ2xpJyk7CiAgICBsaS5hcHBlbmQoc3BhbihmaWxlLm5hbWUsIHtmb250V2VpZ2h0OiAnYm9sZCd9KSk7CiAgICBsaS5hcHBlbmQoc3BhbigKICAgICAgICBgKCR7ZmlsZS50eXBlIHx8ICduL2EnfSkgLSAke2ZpbGUuc2l6ZX0gYnl0ZXMsIGAgKwogICAgICAgIGBsYXN0IG1vZGlmaWVkOiAkewogICAgICAgICAgICBmaWxlLmxhc3RNb2RpZmllZERhdGUgPyBmaWxlLmxhc3RNb2RpZmllZERhdGUudG9Mb2NhbGVEYXRlU3RyaW5nKCkgOgogICAgICAgICAgICAgICAgICAgICAgICAgICAgICAgICAgICAnbi9hJ30gLSBgKSk7CiAgICBjb25zdCBwZXJjZW50ID0gc3BhbignMCUgZG9uZScpOwogICAgbGkuYXBwZW5kQ2hpbGQocGVyY2VudCk7CgogICAgb3V0cHV0RWxlbWVudC5hcHBlbmRDaGlsZChsaSk7CgogICAgY29uc3QgZmlsZURhdGFQcm9taXNlID0gbmV3IFByb21pc2UoKHJlc29sdmUpID0+IHsKICAgICAgY29uc3QgcmVhZGVyID0gbmV3IEZpbGVSZWFkZXIoKTsKICAgICAgcmVhZGVyLm9ubG9hZCA9IChlKSA9PiB7CiAgICAgICAgcmVzb2x2ZShlLnRhcmdldC5yZXN1bHQpOwogICAgICB9OwogICAgICByZWFkZXIucmVhZEFzQXJyYXlCdWZmZXIoZmlsZSk7CiAgICB9KTsKICAgIC8vIFdhaXQgZm9yIHRoZSBkYXRhIHRvIGJlIHJlYWR5LgogICAgbGV0IGZpbGVEYXRhID0geWllbGQgewogICAgICBwcm9taXNlOiBmaWxlRGF0YVByb21pc2UsCiAgICAgIHJlc3BvbnNlOiB7CiAgICAgICAgYWN0aW9uOiAnY29udGludWUnLAogICAgICB9CiAgICB9OwoKICAgIC8vIFVzZSBhIGNodW5rZWQgc2VuZGluZyB0byBhdm9pZCBtZXNzYWdlIHNpemUgbGltaXRzLiBTZWUgYi82MjExNTY2MC4KICAgIGxldCBwb3NpdGlvbiA9IDA7CiAgICB3aGlsZSAocG9zaXRpb24gPCBmaWxlRGF0YS5ieXRlTGVuZ3RoKSB7CiAgICAgIGNvbnN0IGxlbmd0aCA9IE1hdGgubWluKGZpbGVEYXRhLmJ5dGVMZW5ndGggLSBwb3NpdGlvbiwgTUFYX1BBWUxPQURfU0laRSk7CiAgICAgIGNvbnN0IGNodW5rID0gbmV3IFVpbnQ4QXJyYXkoZmlsZURhdGEsIHBvc2l0aW9uLCBsZW5ndGgpOwogICAgICBwb3NpdGlvbiArPSBsZW5ndGg7CgogICAgICBjb25zdCBiYXNlNjQgPSBidG9hKFN0cmluZy5mcm9tQ2hhckNvZGUuYXBwbHkobnVsbCwgY2h1bmspKTsKICAgICAgeWllbGQgewogICAgICAgIHJlc3BvbnNlOiB7CiAgICAgICAgICBhY3Rpb246ICdhcHBlbmQnLAogICAgICAgICAgZmlsZTogZmlsZS5uYW1lLAogICAgICAgICAgZGF0YTogYmFzZTY0LAogICAgICAgIH0sCiAgICAgIH07CiAgICAgIHBlcmNlbnQudGV4dENvbnRlbnQgPQogICAgICAgICAgYCR7TWF0aC5yb3VuZCgocG9zaXRpb24gLyBmaWxlRGF0YS5ieXRlTGVuZ3RoKSAqIDEwMCl9JSBkb25lYDsKICAgIH0KICB9CgogIC8vIEFsbCBkb25lLgogIHlpZWxkIHsKICAgIHJlc3BvbnNlOiB7CiAgICAgIGFjdGlvbjogJ2NvbXBsZXRlJywKICAgIH0KICB9Owp9CgpzY29wZS5nb29nbGUgPSBzY29wZS5nb29nbGUgfHwge307CnNjb3BlLmdvb2dsZS5jb2xhYiA9IHNjb3BlLmdvb2dsZS5jb2xhYiB8fCB7fTsKc2NvcGUuZ29vZ2xlLmNvbGFiLl9maWxlcyA9IHsKICBfdXBsb2FkRmlsZXMsCiAgX3VwbG9hZEZpbGVzQ29udGludWUsCn07Cn0pKHNlbGYpOwo=",
              "ok": true,
              "headers": [
                [
                  "content-type",
                  "application/javascript"
                ]
              ],
              "status": 200,
              "status_text": ""
            }
          },
          "base_uri": "https://localhost:8080/",
          "height": 88
        },
        "outputId": "9da29ec3-4a3d-4067-b4a0-fa48261510fe"
      },
      "source": [
        "\n",
        "from google.colab import files\n",
        "\n",
        "uploaded = files.upload()\n",
        "\n",
        "for fn in uploaded.keys():\n",
        "  print('User uploaded file \"{name}\" with length {length} bytes'.format(\n",
        "      name=fn, length=len(uploaded[fn])))"
      ],
      "execution_count": 3,
      "outputs": [
        {
          "output_type": "display_data",
          "data": {
            "text/html": [
              "\n",
              "     <input type=\"file\" id=\"files-5c0c7fca-f89d-4df6-a364-7175fbba4ae1\" name=\"files[]\" multiple disabled />\n",
              "     <output id=\"result-5c0c7fca-f89d-4df6-a364-7175fbba4ae1\">\n",
              "      Upload widget is only available when the cell has been executed in the\n",
              "      current browser session. Please rerun this cell to enable.\n",
              "      </output>\n",
              "      <script src=\"/nbextensions/google.colab/files.js\"></script> "
            ],
            "text/plain": [
              "<IPython.core.display.HTML object>"
            ]
          },
          "metadata": {
            "tags": []
          }
        },
        {
          "output_type": "stream",
          "text": [
            "Saving anna.txt to anna.txt\n",
            "User uploaded file \"anna.txt\" with length 2025486 bytes\n"
          ],
          "name": "stdout"
        }
      ]
    },
    {
      "cell_type": "code",
      "metadata": {
        "id": "59EUgexFUjgm",
        "colab_type": "code",
        "colab": {
          "base_uri": "https://localhost:8080/",
          "height": 34
        },
        "outputId": "f0b627fc-69c9-4795-ece2-1adfd1c50bf7"
      },
      "source": [
        "cd .."
      ],
      "execution_count": 8,
      "outputs": [
        {
          "output_type": "stream",
          "text": [
            "/content\n"
          ],
          "name": "stdout"
        }
      ]
    },
    {
      "cell_type": "code",
      "metadata": {
        "id": "z7BrHRWeVfPA",
        "colab_type": "code",
        "colab": {}
      },
      "source": [
        ""
      ],
      "execution_count": 0,
      "outputs": []
    }
  ]
}