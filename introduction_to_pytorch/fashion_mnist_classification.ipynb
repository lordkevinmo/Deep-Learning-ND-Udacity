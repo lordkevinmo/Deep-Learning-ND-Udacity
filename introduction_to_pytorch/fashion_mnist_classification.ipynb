{
 "cells": [
  {
   "cell_type": "code",
   "execution_count": 1,
   "metadata": {},
   "outputs": [
    {
     "name": "stderr",
     "output_type": "stream",
     "text": [
      "  0%|          | 0/26421880 [00:00<?, ?it/s]"
     ]
    },
    {
     "name": "stdout",
     "output_type": "stream",
     "text": [
      "Downloading http://fashion-mnist.s3-website.eu-central-1.amazonaws.com/train-images-idx3-ubyte.gz to /Users/moiseagbenya/.pytorch/F_MNIST_data/FashionMNIST/raw/train-images-idx3-ubyte.gz\n"
     ]
    },
    {
     "name": "stderr",
     "output_type": "stream",
     "text": [
      " 99%|█████████▉| 26173440/26421880 [00:14<00:00, 2799089.02it/s]"
     ]
    },
    {
     "name": "stdout",
     "output_type": "stream",
     "text": [
      "Extracting /Users/moiseagbenya/.pytorch/F_MNIST_data/FashionMNIST/raw/train-images-idx3-ubyte.gz to /Users/moiseagbenya/.pytorch/F_MNIST_data/FashionMNIST/raw\n"
     ]
    },
    {
     "name": "stderr",
     "output_type": "stream",
     "text": [
      "\n",
      "0it [00:00, ?it/s]\u001b[A\n",
      "32768it [00:00, 221641.77it/s]           \u001b[A\n",
      "\n",
      "0it [00:00, ?it/s]\u001b[A"
     ]
    },
    {
     "name": "stdout",
     "output_type": "stream",
     "text": [
      "Downloading http://fashion-mnist.s3-website.eu-central-1.amazonaws.com/train-labels-idx1-ubyte.gz to /Users/moiseagbenya/.pytorch/F_MNIST_data/FashionMNIST/raw/train-labels-idx1-ubyte.gz\n",
      "Extracting /Users/moiseagbenya/.pytorch/F_MNIST_data/FashionMNIST/raw/train-labels-idx1-ubyte.gz to /Users/moiseagbenya/.pytorch/F_MNIST_data/FashionMNIST/raw\n",
      "Downloading http://fashion-mnist.s3-website.eu-central-1.amazonaws.com/t10k-images-idx3-ubyte.gz to /Users/moiseagbenya/.pytorch/F_MNIST_data/FashionMNIST/raw/t10k-images-idx3-ubyte.gz\n"
     ]
    },
    {
     "name": "stderr",
     "output_type": "stream",
     "text": [
      "\n",
      "  0%|          | 16384/4422102 [00:00<00:30, 144718.28it/s]\u001b[A\n",
      "  3%|▎         | 131072/4422102 [00:00<00:22, 192700.44it/s]\u001b[A\n",
      "  8%|▊         | 352256/4422102 [00:00<00:15, 265221.20it/s]\u001b[A\n",
      " 10%|█         | 442368/4422102 [00:00<00:12, 331182.11it/s]\u001b[A\n",
      " 16%|█▌        | 688128/4422102 [00:00<00:08, 446351.10it/s]\u001b[A\n",
      " 19%|█▊        | 819200/4422102 [00:00<00:06, 551097.00it/s]\u001b[A\n",
      " 21%|██▏       | 950272/4422102 [00:00<00:05, 638875.39it/s]\u001b[A\n",
      " 24%|██▍       | 1073152/4422102 [00:00<00:04, 722393.88it/s]\u001b[A\n",
      " 27%|██▋       | 1212416/4422102 [00:01<00:03, 837485.56it/s]\u001b[A\n",
      " 30%|███       | 1343488/4422102 [00:01<00:03, 938218.02it/s]\u001b[A\n",
      " 34%|███▍      | 1499136/4422102 [00:01<00:02, 1062146.08it/s]\u001b[A\n",
      " 37%|███▋      | 1654784/4422102 [00:01<00:02, 1158570.95it/s]\u001b[A\n",
      " 41%|████      | 1810432/4422102 [00:01<00:02, 1238488.51it/s]\u001b[A\n",
      " 44%|████▍     | 1966080/4422102 [00:01<00:01, 1318413.37it/s]\u001b[A\n",
      " 48%|████▊     | 2113536/4422102 [00:01<00:01, 1359573.74it/s]\u001b[A\n",
      " 51%|█████▏    | 2277376/4422102 [00:01<00:01, 1411991.77it/s]\u001b[A\n",
      " 55%|█████▌    | 2433024/4422102 [00:01<00:01, 1447021.11it/s]\u001b[A\n",
      " 59%|█████▉    | 2621440/4422102 [00:01<00:01, 1548483.61it/s]\u001b[A\n",
      " 64%|██████▎   | 2818048/4422102 [00:02<00:00, 1629349.54it/s]\u001b[A\n",
      " 68%|██████▊   | 3014656/4422102 [00:02<00:00, 1690714.09it/s]\u001b[A\n",
      " 73%|███████▎  | 3227648/4422102 [00:02<00:00, 1787641.81it/s]\u001b[A\n",
      " 78%|███████▊  | 3432448/4422102 [00:02<00:00, 1853342.20it/s]\u001b[A\n",
      " 82%|████████▏ | 3645440/4422102 [00:02<00:00, 1926239.07it/s]\u001b[A\n",
      " 88%|████████▊ | 3874816/4422102 [00:02<00:00, 1997092.88it/s]\u001b[A\n",
      " 93%|█████████▎| 4104192/4422102 [00:02<00:00, 2059271.01it/s]\u001b[A\n",
      "4423680it [00:02, 1573866.77it/s]                             \u001b[A\n",
      "\n",
      "0it [00:00, ?it/s]\u001b[A\n",
      "8192it [00:00, 73612.82it/s]            \u001b[A\n"
     ]
    },
    {
     "name": "stdout",
     "output_type": "stream",
     "text": [
      "Extracting /Users/moiseagbenya/.pytorch/F_MNIST_data/FashionMNIST/raw/t10k-images-idx3-ubyte.gz to /Users/moiseagbenya/.pytorch/F_MNIST_data/FashionMNIST/raw\n",
      "Downloading http://fashion-mnist.s3-website.eu-central-1.amazonaws.com/t10k-labels-idx1-ubyte.gz to /Users/moiseagbenya/.pytorch/F_MNIST_data/FashionMNIST/raw/t10k-labels-idx1-ubyte.gz\n",
      "Extracting /Users/moiseagbenya/.pytorch/F_MNIST_data/FashionMNIST/raw/t10k-labels-idx1-ubyte.gz to /Users/moiseagbenya/.pytorch/F_MNIST_data/FashionMNIST/raw\n",
      "Processing...\n",
      "Done!\n"
     ]
    },
    {
     "name": "stderr",
     "output_type": "stream",
     "text": [
      "26427392it [00:30, 2799089.02it/s]                              "
     ]
    }
   ],
   "source": [
    "import torch\n",
    "import helper\n",
    "from torchvision import datasets, transforms\n",
    "#Define transform and normalize data\n",
    "transform = transforms.Compose([transforms.ToTensor(),\n",
    "                                transforms.Normalize((0.5,),(0.5,)),\n",
    "                               ])\n",
    "#download and load the training data\n",
    "trainset = datasets.FashionMNIST('~/.pytorch/F_MNIST_data/', download=True, train=True, transform = transform)\n",
    "trainloader = torch.utils.data.DataLoader(trainset, batch_size=64, shuffle=True)\n",
    "\n",
    "#downlaod and load the test data\n",
    "testset = datasets.FashionMNIST('~/.pytorch/F_MNIST_data/', download=True, train=False, transform=transform)\n",
    "testloader = torch.utils.data.DataLoader(testset, batch_size=64, shuffle=True)"
   ]
  },
  {
   "cell_type": "code",
   "execution_count": 2,
   "metadata": {},
   "outputs": [
    {
     "data": {
      "text/plain": [
       "<matplotlib.axes._subplots.AxesSubplot at 0x1282f58d0>"
      ]
     },
     "execution_count": 2,
     "metadata": {},
     "output_type": "execute_result"
    },
    {
     "data": {
      "image/png": "[encoded data removed]",
      "text/plain": [
       "<Figure size 432x288 with 1 Axes>"
      ]
     },
     "metadata": {
      "needs_background": "light"
     },
     "output_type": "display_data"
    }
   ],
   "source": [
    "images, labels = next(iter(trainloader))\n",
    "helper.imshow(images[0,:])"
   ]
  },
  {
   "cell_type": "code",
   "execution_count": 6,
   "metadata": {},
   "outputs": [],
   "source": [
    "from torch import nn\n",
    "from torch import optim\n",
    "#Definition of the network architecture\n",
    "model = nn.Sequential(nn.Linear(784,256),\n",
    "                      nn.ReLU(),\n",
    "                      nn.Linear(256,128),\n",
    "                      nn.ReLU(),\n",
    "                      nn.Linear(128,64),\n",
    "                      nn.ReLU(),\n",
    "                      nn.Linear(64,10),\n",
    "                      nn.LogSoftmax(dim=1)\n",
    "                     )\n",
    "#define the criterion\n",
    "criterion = nn.NLLLoss()\n",
    "#define the optimizer\n",
    "optimizer = optim.Adam(model.parameters(), lr=0.003)\n",
    "epochs = 10"
   ]
  },
  {
   "cell_type": "code",
   "execution_count": 7,
   "metadata": {},
   "outputs": [
    {
     "name": "stdout",
     "output_type": "stream",
     "text": [
      "Training loss: 0.5100942903172487\n",
      "Training loss: 0.39245008464370457\n",
      "Training loss: 0.35327740447289907\n",
      "Training loss: 0.3320209981679027\n",
      "Training loss: 0.31919067179851696\n",
      "Training loss: 0.30227440091243174\n",
      "Training loss: 0.2910284790863742\n",
      "Training loss: 0.2802151164043941\n",
      "Training loss: 0.27620850188899904\n",
      "Training loss: 0.26332196752939907\n"
     ]
    }
   ],
   "source": [
    "for e in range(epochs):\n",
    "    running_loss = 0\n",
    "    for images, labels in trainloader:\n",
    "        #reshape images\n",
    "        images = images.view(images.shape[0],-1)\n",
    "        #reset the autograd\n",
    "        optimizer.zero_grad()\n",
    "        #feedforward\n",
    "        logps = model(images)\n",
    "        #compute the loss\n",
    "        loss = criterion(logps,labels)\n",
    "        #backward\n",
    "        loss.backward()\n",
    "        optimizer.step()\n",
    "        running_loss += loss.item()\n",
    "    else:\n",
    "        print(f\"Training loss: {running_loss/len(trainloader)}\")"
   ]
  },
  {
   "cell_type": "code",
   "execution_count": 9,
   "metadata": {},
   "outputs": [
    {
     "data": {
      "image/png": "[encoded data removed]",
      "text/plain": [
       "<Figure size 432x648 with 2 Axes>"
      ]
     },
     "metadata": {
      "image/png": {
       "height": 216,
       "width": 424
      },
      "needs_background": "light"
     },
     "output_type": "display_data"
    }
   ],
   "source": [
    "%matplotlib inline\n",
    "%config InlineBackend.figure_format = 'retina'\n",
    "\n",
    "import torch.nn.functional as F\n",
    "\n",
    "# Test out your network!\n",
    "\n",
    "dataiter = iter(testloader)\n",
    "images, labels = dataiter.next()\n",
    "img = images[0]\n",
    "# Convert 2D image to 1D vector\n",
    "img = img.resize_(1, 784)\n",
    "\n",
    "# TODO: Calculate the class probabilities (softmax) for img\n",
    "with torch.no_grad():\n",
    "    logits = model.forward(img)\n",
    "ps = F.softmax(logits,dim=1)\n",
    "\n",
    "# Plot the image and probabilities\n",
    "helper.view_classify(img, ps, version='Fashion')"
   ]
  },
  {
   "cell_type": "code",
   "execution_count": null,
   "metadata": {},
   "outputs": [],
   "source": []
  }
 ],
 "metadata": {
  "kernelspec": {
   "display_name": "Python 3",
   "language": "python",
   "name": "python3"
  },
  "language_info": {
   "codemirror_mode": {
    "name": "ipython",
    "version": 3
   },
   "file_extension": ".py",
   "mimetype": "text/x-python",
   "name": "python",
   "nbconvert_exporter": "python",
   "pygments_lexer": "ipython3",
   "version": "3.7.6"
  }
 },
 "nbformat": 4,
 "nbformat_minor": 4
}
